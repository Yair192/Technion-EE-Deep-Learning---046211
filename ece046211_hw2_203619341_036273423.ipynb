{
 "cells": [
  {
   "cell_type": "markdown",
   "metadata": {
    "id": "dzV9wsJ5pGhf"
   },
   "source": [
    "# <img src=\"https://img.icons8.com/bubbles/50/000000/mind-map.png\" style=\"height:50px;display:inline\"> ECE 046211 - Technion - Deep Learning\n",
    "---\n",
    "\n",
    "## HW2 - Multilayer NNs and Convolutional NNs\n",
    "---"
   ]
  },
  {
   "cell_type": "markdown",
   "metadata": {
    "id": "bq2c8X93pGhh"
   },
   "source": [
    "### <img src=\"https://img.icons8.com/clouds/96/000000/keyboard.png\" style=\"height:50px;display:inline\"> Keyboard Shortcuts\n",
    "---\n",
    "* Run current cell: **Ctrl + Enter**\n",
    "* Run current cell and move to the next: **Shift + Enter**\n",
    "* Show lines in a code cell: **Esc + L**\n",
    "* View function documentation: **Shift + Tab** inside the parenthesis or `help(name_of_module)`\n",
    "* New cell below: **Esc + B**\n",
    "* Delete cell: **Esc + D, D** (two D's)"
   ]
  },
  {
   "cell_type": "markdown",
   "metadata": {
    "id": "vZZybn3NpGhh"
   },
   "source": [
    "### <img src=\"https://img.icons8.com/bubbles/50/000000/information.png\" style=\"height:50px;display:inline\"> Students Information\n",
    "---\n",
    "* Fill in\n",
    "\n",
    "|Name     |Campus Email| ID  |\n",
    "|---------|--------------------------------|----------|\n",
    "|Yair Stolero| yairstolero@gmail.com| 203619341|\n",
    "|Shlomo Bohadana| shlomobo@campus.technion.ac.il| 036273423|\n"
   ]
  },
  {
   "cell_type": "markdown",
   "metadata": {
    "id": "dDK5zqhdpGhi"
   },
   "source": [
    "### <img src=\"https://img.icons8.com/bubbles/50/000000/upload-to-cloud.png\" style=\"height:50px;display:inline\"> Submission Guidelines\n",
    "---\n",
    "* Maximal garde: 100.\n",
    "* Submission only in **pairs**. \n",
    "    * Please make sure you have registered your group in Moodle (there is a group creation component on the Moodle where you need to create your group and assign members).\n",
    "* **No handwritten submissions.** You can choose whether to answer in a Markdown cell in this notebook or attach a PDF with your answers.\n",
    "* <a style='color:red'> SAVE THE NOTEBOOKS WITH THE OUTPUT, CODE CELLS THAT WERE NOT RUN WILL NOT GET ANY POINTS! </a>\n",
    "* What you have to submit:\n",
    "    * If you have answered the questions in the notebook, you should submit this file only, with the name: `ece046211_hw2_id1_id2.ipynb`.\n",
    "    * If you answered the questions in a different file you should submit a `.zip` file with the name `ece046211_hw2_id1_id2.zip` with content:\n",
    "        * `ece046211_hw2_id1_id2.ipynb` - the code tasks\n",
    "        * `ece046211_hw2_id1_id2.pdf` - answers to questions.\n",
    "    * No other file-types (`.py`, `.docx`...) will be accepted.\n",
    "* Submission on the course website (Moodle).\n",
    "* **Latex in Colab** - in some cases, Latex equations may no be rendered. To avoid this, make sure to not use *bullets* in your answers (\"* some text here with Latex equations\" -> \"some text here with Latex equations\")."
   ]
  },
  {
   "cell_type": "markdown",
   "metadata": {
    "id": "pmSj_UufpGhi"
   },
   "source": [
    "### <img src=\"https://img.icons8.com/dusk/64/000000/online.png\" style=\"height:50px;display:inline\"> Working Online and Locally\n",
    "---\n",
    "* You can choose your working environment:\n",
    "    1. `Jupyter Notebook`, **locally** with <a href=\"https://www.anaconda.com/distribution/\">Anaconda</a> or **online** on <a href=\"https://colab.research.google.com/\">Google Colab</a>\n",
    "        * Colab also supports running code on GPU, so if you don't have one, Colab is the way to go. To enable GPU on Colab, in the menu: `Runtime`$\\rightarrow$ `Change Runtime Type` $\\rightarrow$`GPU`.\n",
    "    2. Python IDE such as <a href=\"https://www.jetbrains.com/pycharm/\">PyCharm</a> or <a href=\"https://code.visualstudio.com/\">Visual Studio Code</a>.\n",
    "        * Both allow editing and running Jupyter Notebooks.\n",
    "\n",
    "* Please refer to `Setting Up the Working Environment.pdf` on the Moodle or our GitHub (https://github.com/taldatech/ee046211-deep-learning) to help you get everything installed.\n",
    "* If you need any technical assistance, please go to our Piazza forum (`hw2` folder) and describe your problem (preferably with images)."
   ]
  },
  {
   "cell_type": "markdown",
   "metadata": {
    "id": "nlp1Fp4ppGhj"
   },
   "source": [
    "### <img src=\"https://img.icons8.com/bubbles/50/000000/checklist.png\" style=\"height:50px;display:inline\"> Agenda\n",
    "---\n",
    "\n",
    "* [Part 1 - Theory](#-Part-1---Theory)\n",
    "    * [Q1 - Generalization in A Teacher-Student Setup](#-Question-1--Generalization-in-A-Teacher-Student-Setup)\n",
    "    * [Q2 - Backpropagation By Hand](#-Question-2---Backpropagation-By-Hand)\n",
    "    * [Q3 - Deep Double Descent](#-Question-3---Deep-Double-Descent)\n",
    "    * [Q4 - Initialization](#-Question-4---Initialization)\n",
    "    * [Q5 - MLP and Invaraince](#-Question-5---MLP-and-Invaraince)\n",
    "    * [Q6 - VGG Architecture](#-Question-6--VGG-Architecture)\n",
    "* [Part 2 - Code Assignments](#-Part-2---Code-Assignments)\n",
    "    * [Task 1 - The Importance of Activation and Initialization](#-Task-1---The-Importance-of-Activation-and-Initialization)\n",
    "    * [Task 2 - MLP-based Deep Classifer](#-Task-2---MLP-based-Deep-Classifer)\n",
    "    * [Task 3 - Design a CNN](#-Task-3---Design-a-CNN)\n",
    "* [Credits](#-Credits)"
   ]
  },
  {
   "cell_type": "markdown",
   "metadata": {
    "id": "XKtSiQX_pGhj"
   },
   "source": [
    "### <img src=\"https://img.icons8.com/cute-clipart/64/000000/ball-point-pen.png\" style=\"height:50px;display:inline\"> Part 1 - Theory\n",
    "---\n",
    "* You can choose whether to answser these straight in the notebook (Markdown + Latex) or use another editor (Word, LyX, Latex, Overleaf...) and submit an additional PDF file, **but no handwritten submissions**.\n",
    "* You can attach additional figures (drawings, graphs,...) in a separate PDF file, just make sure to refer to them in your answers.\n",
    "\n",
    "* $\\large\\LaTeX$ <a href=\"https://kapeli.com/cheat_sheets/LaTeX_Math_Symbols.docset/Contents/Resources/Documents/index\">Cheat-Sheet</a> (to write equations)\n",
    "    * <a href=\"http://tug.ctan.org/info/latex-refsheet/LaTeX_RefSheet.pdf\">Another Cheat-Sheet</a>"
   ]
  },
  {
   "cell_type": "markdown",
   "metadata": {
    "id": "RsqSFZG1pGhj"
   },
   "source": [
    "## <img src=\"https://img.icons8.com/clouds/100/000000/question-mark.png\" style=\"height:50px;display:inline\"> Question 1 -Generalization in A Teacher-Student Setup\n",
    "---\n",
    "\n",
    "Recall from lecture 4 the Risk $\\mathcal{R}(w)$: $$ \\mathcal{R}(w) \\triangleq \\mathbb{E}_{x^{(0)} \\sim \\mathcal{N}(0, I) } \\left[ ||w^Tx^{(0)} - w_t^Tx^{(0)}||^2 \\right] $$\n",
    "\n",
    "Prove:\n",
    "\n",
    "$$ \\mathcal{R}(w) = ||w-w_t||^2 $$"
   ]
  },
  {
   "cell_type": "markdown",
   "metadata": {},
   "source": [
    "### Question 1 - Solution ###\n",
    "\n",
    "\n",
    "To prove the given equation, we'll start by expanding the squared Euclidean norm on the right-hand side:\n",
    "\n",
    "$$\n",
    "||w - w_t||^2 = (w - w_t)^T(w - w_t) = w^Tw - w^Tw_t - w_t^Tw + w_t^Tw_t.\n",
    "$$\n",
    "\n",
    "\n",
    "Next, let's compute the expectation on the left-hand side of the equation:\n",
    "\n",
    "$$\n",
    "\\mathcal{R}(w) = \\mathbb{E}_{x^{(0)} \\sim \\mathcal{N}(0, I)} \\left[ ||w^Tx^{(0)} - w_t^Tx^{(0)}||^2 \\right] = \\mathbb{E}_{x^{(0)} \\sim \\mathcal{N}(0, I)} \\left[ (w^Tx^{(0)} - w_t^Tx^{(0)})^T(w^Tx^{(0)} - w_t^Tx^{(0)}) \\right] = \\mathbb{E}_{x^{(0)} \\sim \\mathcal{N}(0, I)} \\left[ (x^{(0)})^Tw w^Tx^{(0)} - (x^{(0)})^Tw w_t^Tx^{(0)} - (x^{(0)})^Tw_t w^Tx^{(0)} + (x^{(0)})^Tw_t w_t^Tx^{(0)} \\right].\n",
    "$$\n",
    "\n",
    "\n",
    "Now, we can rearrange and simplify the terms inside the expectation:\n",
    "\n",
    "$$\n",
    "\\mathcal{R}(w) = \\mathbb{E}{x^{(0)} \\sim \\mathcal{N}(0, I)} \\left[ (x^{(0)})^Tw w^Tx^{(0)} - (x^{(0)})^Tw w_t^Tx^{(0)} - (x^{(0)})^Tw_t w^Tx^{(0)} + (x^{(0)})^Tw_t w_t^Tx^{(0)} \\right]\n",
    "= \\mathbb{E}{x^{(0)} \\sim \\mathcal{N}(0, I)} \\left[ (x^{(0)})^Tw w^Tx^{(0)} - (x^{(0)})^Tw w_t^Tx^{(0)} \\right] - \\mathbb{E}_{x^{(0)} \\sim \\mathcal{N}(0, I)} \\left[ (x^{(0)})^Tw_t w^Tx^{(0)} - (x^{(0)})^Tw_t w_t^Tx^{(0)} \\right].\n",
    "$$\n",
    "\n",
    "\n",
    "Note that the terms involving the expectation of the cross-products can be simplified as follows:\n",
    "\n",
    "$$\n",
    "\\mathbb{E}{x^{(0)} \\sim \\mathcal{N}(0, I)} \\left[ (x^{(0)})^Tw w^Tx^{(0)} \\right] = w^T \\mathbb{E}{x^{(0)} \\sim \\mathcal{N}(0, I)} \\left[ (x^{(0)}) (x^{(0)})^T \\right] w = w^T I w = w^T w = w^Tw.\n",
    "$$\n",
    "\n",
    "\n",
    "and\n",
    "\n",
    "$$\n",
    "\\mathbb{E}{x^{(0)} \\sim \\mathcal{N}(0, I)} \\left[ (x^{(0)})^Tw w_t^Tx^{(0)} \\right] = w_t^T \\mathbb{E}{x^{(0)} \\sim \\mathcal{N}(0, I)} \\left[ (x^{(0)}) (x^{(0)})^T \\right] w = w_t^T I w = w_t^T w = w_t^Tw.\n",
    "$$\n",
    "\n",
    "\n",
    "Similarly, the other cross-product terms can be simplified to $w^Tw_t$ and $w_t^Tw_t$.\n",
    "\n",
    "Substituting these simplifications back into the equation for $\\mathcal{R}(w)$, we have:\n",
    "\n",
    "$$\n",
    "\\mathcal{R}(w) = \\mathbb{E}{x^{(0)} \\sim \\mathcal{N}(0, I)} \\left[ (x^{(0)})^Tw w^Tx^{(0)} - (x^{(0)})^Tw w_t^Tx^{(0)} \\right] - \\mathbb{E}{x^{(0)} \\sim \\mathcal{N}(0, I)} \\left[ (x^{(0)})^Tw_t w^Tx^{(0)} - (x^{(0)})^Tw_t w_t^Tx^{(0)} \\right] = w^Tw - w^Tw_t - w_t^Tw + w_t^Tw_t = ||w-w_t||^2.\n",
    "$$\n",
    "\n",
    "\n",
    "Hence, we have proven that $\\mathcal{R}(w) = ||w-w_t||^2$.\n"
   ]
  },
  {
   "cell_type": "markdown",
   "metadata": {
    "id": "AubKBrQ8Y1sh"
   },
   "source": [
    "## <img src=\"https://img.icons8.com/clouds/100/000000/question-mark.png\" style=\"height:50px;display:inline\"> Question 2 - Backpropagation By Hand\n",
    "---\n",
    "Consider the following network:\n",
    "<img src=\"https://raw.githubusercontent.com/taldatech/ee046211-deep-learning/main/assets/backprop_by_hand_ex1.png\" style=\"height:300px\">\n",
    "\n",
    "We will work with one sample for this example, but it can be extended to mini-batches.\n",
    "\n",
    "* Input: $x = \\begin{bmatrix} 1 \\\\ 4 \\\\ 5 \\end{bmatrix} \\in \\mathbb{R}^3$\n",
    "* Output (target): $ t = \\begin{bmatrix} 0.1 \\\\ 0.05 \\end{bmatrix} \\in \\mathbb{R}^2 $\n",
    "* Number of Hidden Layers: 1\n",
    "* Activation: Sigmoid for both hidden and output layers\n",
    "* Loss Functions: MSE\n",
    "\n",
    "We initialize the weights and biases to random values as follows:\n",
    "<img src=\"https://raw.githubusercontent.com/taldatech/ee046211-deep-learning/main/assets/backprop_by_hand_ex2.png\" style=\"height:300px\">\n",
    "\n",
    "1. Perform one forward pass and calculate the MSE.\n",
    "2. Perform backpropagation (one backward pass, i.e., calculate the gradients).\n",
    "3. With a learning rate of $\\alpha = 0.01$, what are the new values of the weights after performing the forward pass and backward pass (assume we use SGD)?"
   ]
  },
  {
   "cell_type": "markdown",
   "metadata": {},
   "source": [
    "### Question 2 - Solution ###\n",
    "\n",
    "1. Forward pass:\n",
    "\n",
    "We will compute the forward pass using the sigmoid function and the given inputs, weights, and biases:\n",
    "\n",
    "\n",
    "$\n",
    "h_1 = \\sigma(w_1x_1 + w_3x_2 + w_5x_3 + b_1) = \\sigma(0.1 \\cdot 1 + 0.3 \\cdot 4 + 0.5 \\cdot 5 + 0.5) = 0.9866\n",
    "$\n",
    "\n",
    "$\n",
    "h_2 = \\sigma(w_2x_1 + w_4x_2 + w_6x_3 + b_1) = \\sigma(0.2 \\cdot 1 + 0.4 \\cdot 4 + 0.6 \\cdot 5 + 0.5) = 0.9959\n",
    "$\n",
    "\n",
    "$\n",
    "o_1 = \\sigma(w_7h_1 + w_9h_2 + b_2) = \\sigma(0.7 \\cdot 0.9866 + 0.9 \\cdot 0.9959 + 0.5) = 0.8982\n",
    "$\n",
    "\n",
    "$\n",
    "o_2 = \\sigma(w_8h_1 + w_10h_2 + b_2) = \\sigma(0.8 \\cdot 0.9866 + 0.1 \\cdot 0.9959 + 0.5) = 0.8005\n",
    "$\n",
    "\n",
    "$\n",
    "\\text{MSE} = \\frac{1}{2} \\left( (o_1 - t_1)^2 + (o_2 - t_2)^2 \\right) = \\frac{1}{2} \\left( (0.8982 - 0.1)^2 + (0.8005 - 0.05)^2 \\right) = 0.6009\n",
    "$\n",
    "\n",
    "2. Backpropagation:\n",
    "\n",
    "$ E= \\frac{1}{2}((o_1-t_1)^2+(o_2-t_2)^2)$\n",
    "\n",
    "$\\sigma'(x) = \\sigma(x)(1-\\sigma(x))$\n",
    "\n",
    "$\\frac{\\partial E}{\\partial o_i} = \\frac{\\partial\\left[ \\frac{1}{2}\\sum_{j}^{2}{(o_j-t_j)^2}\\right]}{\\partial o_i} = \\frac{1}{2}\\cdot 2\\cdot (o_i-t_i) = (o_i-t_i) $\n",
    "\n",
    "*   $\\frac{\\partial E}{\\partial o_1} =(o_1-t_1)=0.8895-0.1=0.789$\n",
    "*   $\\frac{\\partial E}{\\partial o_2} =(o_2-t_2)=0.8004-0.05=0.75$\n",
    "*   $\\frac{\\partial E}{\\partial w_7} = \\frac{d E}{d o_1}\\cdot \\frac{d o_1}{d w_7}=$\n",
    "$ 0.789 \\cdot 0.889(1-0.889) \\cdot 0.986 = 0.076$\n",
    "\n",
    "*   $\\frac{\\partial E}{\\partial w_8} = \\frac{d E}{d o_2}\\cdot \\frac{d o_2}{d w_8}=$\n",
    "$ 0.75 \\cdot 0.8004(1-0.8004) \\cdot 0.986 = 0.118$\n",
    "\n",
    "*   $\\frac{\\partial E}{\\partial w_9} = \\frac{d E}{d o_1}\\cdot \\frac{d o_1}{d w_9}=$\n",
    "$ 0.789 \\cdot  0.889(1-0.889) \\cdot 0.995 = 0.077$\n",
    "\n",
    "*   $\\frac{\\partial E}{\\partial w_{10}} = \\frac{d E}{d o_2}\\cdot \\frac{d o_2}{d w_{10}}=$\n",
    "$ 0.75 \\cdot 0.8004(1-0.8004) \\cdot 0.995 = 0.119$\n",
    "\n",
    "*   $\\frac{\\partial E}{\\partial b_2} = \\frac{d E}{d o_1}\\cdot \\frac{d o_1}{d b_2}+\\frac{d E}{d o_2}\\cdot \\frac{d o_2}{d b_2}=$\n",
    "$0.789 \\cdot 0.889(1-0.889) + 0.75 \\cdot 0.8004(1-0.8004)= 0.1975$\n",
    "\n",
    "*   $\\frac{\\partial E}{\\partial h_1} = \\frac{d E}{d o_1}\\cdot \\frac{d o_1}{d h_1}+\\frac{d E}{d o_2}\\cdot \\frac{d o_2}{d h_1}=$\n",
    "$0.789 \\cdot 0.889(1-0.889) \\cdot 0.7 + 0.75 \\cdot 0.8004(1-0.8004)\\cdot 0.8= 0.0865$\n",
    "\n",
    "*   $\\frac{\\partial E}{\\partial h_2} = \\frac{d E}{d o_1}\\cdot \\frac{d o_1}{d h_2}+\\frac{d E}{d o_2}\\cdot \\frac{d o_2}{d h_2}=$\n",
    "$0.789 \\cdot 0.889(1-0.889) \\cdot 0.9 + 0.75 \\cdot 0.8004(1-0.8004)\\cdot 0.1= 0.074$\n",
    "\n",
    "\n",
    "*   $\\frac{\\partial E}{\\partial w_1} =\\frac{\\partial E}{\\partial o_1}(\\frac{\\partial o_1}{\\partial h_1}\\cdot\\frac{\\partial h_1}{\\partial w_1} +  \\frac{\\partial o_1}{\\partial h_2}\\cdot\\frac{\\partial h_2}{\\partial w_1}) + \\frac{\\partial E}{\\partial o_2}(\\frac{\\partial o_2}{\\partial h_1}\\cdot\\frac{\\partial h_1}{\\partial w_1} + \\frac{\\partial o_2}{\\partial h_2}\\cdot\\frac{\\partial h_2}{\\partial w_1}) =$\n",
    "$ 0.0776 \\cdot(0.7\\cdot 0.9866(1-0.9866) \\cdot1 ) + 0.1199\\cdot ( 0.8\\cdot 0.9866(1-0.9866) \\cdot1 ) = 1.983 \\cdot 10^{-3}$\n",
    "\n",
    "\n",
    "*   $\\frac{\\partial E}{\\partial w_3} =\\frac{\\partial E}{\\partial o_1}(\\frac{\\partial o_1}{\\partial h_1}\\cdot\\frac{\\partial h_1}{\\partial w_3} +  \\frac{\\partial o_1}{\\partial h_2}\\cdot\\frac{\\partial h_2}{\\partial w_3}) + \\frac{\\partial E}{\\partial o_2}(\\frac{\\partial o_2}{\\partial h_1}\\cdot\\frac{\\partial h_1}{\\partial w_3} +  \\frac{\\partial o_2}{\\partial h_2}\\cdot\\frac{\\partial h_2}{\\partial w_3}) =$\n",
    "$ 0.0776\\cdot ( 0.7\\cdot 0.0132 \\cdot4 ) + 0.1199\\cdot ( 0.8\\cdot 0.0132 \\cdot4 ) = 7.933 \\cdot 10^{-3}$\n",
    "\n",
    "\n",
    "*   $\\frac{\\partial E}{\\partial w_5} =\\frac{\\partial E}{\\partial o_1}(\\frac{\\partial o_1}{\\partial h_1}\\cdot\\frac{\\partial h_1}{\\partial w_5} +  \\frac{\\partial o_1}{\\partial h_2}\\cdot\\frac{\\partial h_2}{\\partial w_5}) + \\frac{\\partial E}{\\partial o_2}(\\frac{\\partial o_2}{\\partial h_1}\\cdot\\frac{\\partial h_1}{\\partial w_5} +  \\frac{\\partial o_2}{\\partial h_2}\\cdot\\frac{\\partial h_2}{\\partial w_5}) =$\n",
    "$0.0776\\cdot ( 0.7\\cdot 0.9866(1-0.9866) \\cdot5 ) + 0.1199\\cdot( 0.8\\cdot 0.9866(1-0.9866) \\cdot5 ) = 9.916\\cdot10^{-3}$\n",
    "\n",
    "\n",
    "*   $\\frac{\\partial E}{\\partial w_2} =\\frac{\\partial E}{\\partial o_1}(\\frac{\\partial o_1}{\\partial h_1}\\cdot\\frac{\\partial h_1}{\\partial w_2} +  \\frac{\\partial o_1}{\\partial h_2}\\cdot\\frac{\\partial h_2}{\\partial w_2}) + \\frac{\\partial E}{\\partial o_2}(\\frac{\\partial o_2}{\\partial h_1}\\cdot\\frac{\\partial h_1}{\\partial w_2} +  \\frac{\\partial o_2}{\\partial h_2}\\cdot\\frac{\\partial h_2}{\\partial w_2}) =$\n",
    "$  0.0776\\cdot (0.9\\cdot 0.995(1-0.995) \\cdot1 ) + 0.1199\\cdot ( 0.1\\cdot 0.995(1-0.995) \\cdot1 ) = 9.487\\cdot10^{-4}$\n",
    "\n",
    "*   $\\frac{\\partial E}{\\partial w_4} =\\frac{\\partial E}{\\partial o_1}(\\frac{\\partial o_1}{\\partial h_1}\\cdot\\frac{\\partial h_1}{\\partial w_4} +  \\frac{\\partial o_1}{\\partial h_2}\\cdot\\frac{\\partial h_2}{\\partial w_4}) + \\frac{\\partial E}{\\partial o_2}(\\frac{\\partial o_2}{\\partial h_1}\\cdot\\frac{\\partial h_1}{\\partial w_4} +  \\frac{\\partial o_2}{\\partial h_2}\\cdot\\frac{\\partial h_2}{\\partial w_4}) =$\n",
    "$   0.0776\\cdot ( 0.9\\cdot 0.995(1-0.995) \\cdot4 ) + 0.1199\\cdot ( 0.1\\cdot 0.995(1-0.995) \\cdot4 ) = 3.795\\cdot10^{-3}$\n",
    "\n",
    "*   $\\frac{\\partial E}{\\partial w_6} =\\frac{\\partial E}{\\partial o_1}(\\frac{\\partial o_1}{\\partial h_1}\\cdot\\frac{\\partial h_1}{\\partial w_6} +  \\frac{\\partial o_1}{\\partial h_2}\\cdot\\frac{\\partial h_2}{\\partial w_6}) + \\frac{\\partial E}{\\partial o_2}(\\frac{\\partial o_2}{\\partial h_1}\\cdot\\frac{\\partial h_1}{\\partial w_6} +  \\frac{\\partial o_2}{\\partial h_2}\\cdot\\frac{\\partial h_2}{\\partial w_6}) =$\n",
    "$   0.0776\\cdot (0.9\\cdot 0.995(1-0.995) \\cdot5 ) + 0.1199\\cdot ( 0.1\\cdot 0.995(1-0.995) \\cdot5 )= 4.744\\cdot10^{-3}$\n",
    "\n",
    "\n",
    "*   $\\frac{\\partial E}{\\partial b_1}= \\frac{\\partial L}{\\partial o_1}(\\frac{\\partial o_1}{\\partial h_1}\\cdot\\frac{\\partial h_1}{\\partial b_1} +  \\frac{\\partial o_1}{\\partial h_2}\\cdot\\frac{\\partial h_2}{\\partial b_1}) + \\frac{\\partial L}{\\partial o_2}(\\frac{\\partial o_2}{\\partial h_1}\\cdot\\frac{\\partial h_1}{\\partial b_1} +  \\frac{\\partial o_2}{\\partial h_2}\\cdot\\frac{\\partial h_2}{\\partial b_1}) =$\n",
    "$0.0776 \\cdot(0.7\\cdot 0.9866(1-0.9866) + 0.9 \\cdot 0.995(1-0.995))+ 0.1199\\cdot(0.8\\cdot 0.9866(1-0.9866) + 0.1 \\cdot 0.995(1-0.995))= 0.0234\\\\\n",
    "\\\\\n",
    "\\\\\n",
    "$\n",
    "\n",
    "\n",
    "3.Gradient desect: update rule is $$w_{i,(t+1)} = w_{i,t} - \\alpha\\cdot\\frac{\\partial E}{\\partial w_i}  \n",
    "$$and with $\\alpha=0.01$\n",
    "the results are:\n",
    "$\n",
    "  w_1 = w_1 - \\alpha\\cdot\\frac{\\partial E}{\\partial w_1} = \n",
    "  0.1 - 0.01\\cdot1.983\\cdot10^{-3} = \n",
    "  0.099980\\\\\n",
    "  \\\\\n",
    "  \\\\\n",
    "  w_2 = w_2 - \\alpha\\cdot\\frac{\\partial E}{\\partial w_2} = \n",
    "  0.2 - 0.01\\cdot9.487\\cdot10^{-4} = \n",
    "  0.19999805\\\\\n",
    "  \\\\\n",
    "  \\\\\n",
    "  w_3 = w_3 - \\alpha\\cdot\\frac{\\partial E}{\\partial w_3} = \n",
    "  0.3 - 0.01\\cdot7.933\\cdot10^{-3} = \n",
    "  0.29992067\\\\\n",
    "  \\\\\n",
    "  \\\\\n",
    "  w_4 = w_4 - \\alpha\\cdot\\frac{\\partial E}{\\partial w_4} = \n",
    "  0.4 - 0.01\\cdot3.795\\cdot10^{-3} = \n",
    "  0.399962\\\\\n",
    "  \\\\\n",
    "  \\\\\n",
    "  w_5 = w_5 - \\alpha\\cdot\\frac{\\partial E}{\\partial w_5} = \n",
    "  0.5 - 0.01\\cdot9.916\\cdot10^{-3} = \n",
    "  0.4999084\\\\\n",
    "  \\\\\n",
    "  \\\\\n",
    "  w_6= w_6 - \\alpha\\cdot\\frac{\\partial E}{\\partial w_6} = \n",
    "  0.6 - 0.01\\cdot4.744\\cdot10^{-3} = \n",
    "  0.59995256\\\\\n",
    "  \\\\\n",
    "  \\\\\n",
    "  w_7= w_7 - \\alpha\\cdot\\frac{\\partial E}{\\partial w_7} = \n",
    "  0.7 - 0.01\\cdot0.0766 = \n",
    "  0.699234\\\\\n",
    "  \\\\\n",
    "  \\\\\n",
    "  w_8 = w_8 - \\alpha\\cdot\\frac{\\partial E}{\\partial w_8} = \n",
    "  0.8 - 0.01\\cdot0.1183 = \n",
    "  0.798817\\\\\n",
    "  \\\\\n",
    "  \\\\\n",
    "  w_9 = w_9 - \\alpha\\cdot\\frac{\\partial E}{\\partial w_9} = \n",
    "  0.9 - 0.01\\cdot0.0772 = \n",
    "  0.899228\\\\\n",
    "  \\\\\n",
    "  \\\\\n",
    "  w_{10} = w_{10} - \\alpha\\cdot\\frac{\\partial E}{\\partial w_{10}} = \n",
    "  0.1 - 0.01\\cdot0.1193 = \n",
    "  0.098807\\\\\n",
    "  \\\\\n",
    "  \\\\\n",
    "  b_1 = b_1 - \\alpha\\cdot\\frac{\\partial E}{\\partial b_1} = \n",
    "  0.5 - 0.01\\cdot0.0234 = \n",
    "  0.499766\\\\\n",
    "  \\\\\n",
    "  \\\\\n",
    "  b_2 = b_2 - \\alpha\\cdot\\frac{\\partial E}{\\partial b_2} = \n",
    "  0.5 - 0.01\\cdot0.1975 = \n",
    "  0.498025\\\\\n",
    "  \\\\\n",
    "  \\\\\n",
    "$\n",
    "\n"
   ]
  },
  {
   "cell_type": "markdown",
   "metadata": {
    "id": "bpt6oTJOY1si"
   },
   "source": [
    "## <img src=\"https://img.icons8.com/clouds/100/000000/question-mark.png\" style=\"height:50px;display:inline\"> Question 3 - Deep Double Descent\n",
    "---\n",
    "\n",
    "For the following plots:\n",
    "1. Where is the critical point (the point of transition between the \"Classical Regime\" and \"Modern Regime\") of the deep double descent?\n",
    "2. What type of double descent is shown (**look closely at the graph**)? Explain. There can be more than one correct answer.\n",
    "    \n",
    "\n",
    "a. <img src='https://raw.githubusercontent.com/taldatech/ee046211-deep-learning/main/assets/double_descent_transformer.PNG' style=\"height:300px\">\n",
    "\n",
    "b. <img src='https://raw.githubusercontent.com/taldatech/ee046211-deep-learning/main/assets/double_descent_resnet.PNG' style=\"height:400px\">\n",
    "\n",
    "c. <img src='https://raw.githubusercontent.com/taldatech/ee046211-deep-learning/main/assets/double_descent_intermediate.PNG' style=\"height:300px\">"
   ]
  },
  {
   "cell_type": "markdown",
   "metadata": {},
   "source": [
    "### Question 3 - Solution ###\n",
    "\n",
    "\n",
    "1.\n",
    "\n",
    "\n",
    "\n",
    "In graph A: Blue line - 200. Green line - 290.\n",
    "\n",
    "In graph B: Purple line - 10. Light blue line - 12 . Green line - 13.\n",
    "\n",
    "In graph C: Red line - 80. Light blue line- 1000. Yellow line - No critical point.\n",
    "\n",
    "\n",
    "2.\n",
    "\n",
    "In graph A: Sample-wise Non-monotonicity and Model-wise Double Descent. \n",
    "As the model size gets bigger, we can see that the model is worse (Model-wise).\n",
    "Also, both graph present a language translator, but one has more data then the another which shifts the interpolation thresold and cause peak in the tset loss (Sample - wise).\n",
    "\n",
    "In graph B: Model-wise Double Descent. All graph increase at some point to a certain peak and decrease after as the model gets bigger with bigger width parameter (Classical regime and Modern regime). \n",
    "\n",
    "In graph C: Epoch-wise Double Descent. It can be seen the longer training cause increase in the test error. The longer training reverses overfitting."
   ]
  },
  {
   "attachments": {},
   "cell_type": "markdown",
   "metadata": {
    "id": "Fhnzz4oZY1sj"
   },
   "source": [
    "## <img src=\"https://img.icons8.com/clouds/100/000000/question-mark.png\" style=\"height:50px;display:inline\"> Question 4 - Initialization\n",
    "---\n",
    "Recall that in lecture 5 we were discussing how to calculate the initialization variance, and reached the conclusion that \n",
    "$$ \\sigma_l =\\frac{1}{\\sqrt{\\sum_j \\mathbb{E} \\left[\\varphi^2(u_{l-1}[j])\\right]}} $$\n",
    "Show that for ReLU activation ($\\varphi(z) = max(0,z)$), the optimal variance satisfies: $$ \\sigma_l = \\sqrt{\\frac{2}{d_{l-1}}}$$\n",
    "\n",
    "1. Under the assumption that the distribution of $W$ is symmetric ($\\to$ the distribution of $u$ is symmetric).\n",
    "2. Using the central limit theorem for large width.\n",
    "\n",
    "Answer each section **separately** and assume the sections are independent.\n",
    "\n",
    "All the notations are the same as in the lecture slides.\n",
    "\n",
    "### Question 4 - Solution ###\n",
    "\n",
    "1.\n",
    "\n",
    "$\\sigma_l = \\frac{1}{\\sqrt{\\sum_j \\mathbb{E} \\left[\\varphi^2(u_{l-1}[j])\\right]}}$\n",
    "\n",
    "ReLU activation $\\varphi(z) = \\max(0, z)$. Thus, we need to calculate $\\mathbb{E} \\left[\\varphi^2(u_{l-1}[j])\\right]$.\n",
    "\n",
    "$\\varphi(z) = \\max(0, z)$, so $\\varphi^2(z) = \\max(0, z)^2$.\n",
    "\n",
    "$\\mathbb{E} \\left[\\varphi^2(u_{l-1}[j])\\right] = \\int_{-\\infty}^{\\infty} \\varphi^2(u_{l-1}[j]) p(u_{l-1}[j]) du_{l-1}[j]$, where $p(u_{l-1}[j])$ is the probability density function of $u_{l-1}[j]$.\n",
    "\n",
    "ReLU activation $u_{l-1}[j] < 0$, $\\varphi(u_{l-1}[j]) = 0$\n",
    "\n",
    "$\\mathbb{E} \\left[\\varphi^2(u_{l-1}[j])\\right] = \\int_{0}^{\\infty} \\varphi^2(u_{l-1}[j]) p(u_{l-1}[j]) du_{l-1}[j]$\n",
    "\n",
    "Under the assumption that the distribution of $W$ is symmetric, the distribution of $u_{l-1}[j]$ is also symmetric.\n",
    "\n",
    "$\\mathbb{E} \\left[\\varphi^2(u_{l-1}[j])\\right] = \\frac{1}{2} \\int_{-\\infty}^{\\infty} \\varphi^2(u_{l-1}[j]) p(u_{l-1}[j]) du_{l-1}[j]=\\frac{1}{2} \\int_{0}^{\\infty} u_{l-1}[j]^2 p(u_{l-1}[j]) du_{l-1}[j]$\n",
    "\n",
    "\n",
    "This integral represents the second moment of the symmetric distribution of $u_{l-1}[j]$. Let's denote this second moment as $\\sigma_{u_{l-1}[j]}^2$.\n",
    "\n",
    "$\\mathbb{E} \\left[\\varphi^2(u_{l-1}[j])\\right] = \\frac{1}{2} \\sigma_{u_{l-1}[j]}^2$\n",
    "\n",
    "$\\sigma_l = \\frac{1}{\\sqrt{\\sum_j \\frac{1}{2} \\sigma_{u_{l-1}[j]}^2}}$\n",
    "\n",
    "$\\sigma_{u_{l-1}[j]}^2$ is the same for all $j$.\n",
    "Hence, we can rewrite the sum as $\\sum_j \\sigma_{u_{l-1}[j]}^2 = d_{l-1} \\sigma_{u_{l-1}}^2$, where $\\sigma_{u_{l-1}}^2$ represents the variance of $u_{l-1}[j]$.\n",
    "\n",
    "$\\sigma_l = \\frac{1}{\\sqrt{\\frac{1}{2} d_{l-1} \\sigma_{u_{l-1}}^2}} = \\sqrt{\\frac{2}{d_{l-1} \\sigma_{u_{l-1}}^2}}$\n",
    "\n",
    "We assume that $\\sigma_{u_{l-1}}^2 = 1$.\n",
    "\n",
    "Hence, we have: $\\sigma_l = \\sqrt{\\frac{2}{d_{l-1}}}$\n",
    "\n",
    "\n",
    "\n",
    "\n",
    "2.\n",
    "\n",
    "\n",
    "\n",
    "$\\begin{aligned}\n",
    "\\mathbb{E}[\\varphi^2(u_{l-1}[j])] &= \\int_0^\\infty \\left(\\max(0, u_{l-1}[j])\\right)^2 \\frac{1}{\\sqrt{2\\pi}\\sigma_{u_{l-1}}} e^{-\\frac{u_{l-1}[j]^2}{2\\sigma_{u_{l-1}}^2}} du_{l-1}[j].\n",
    "\\end{aligned}$\n",
    "\n",
    "\n",
    "$\\mathbb{E}[\\varphi^2(u_{l-1}[j])] = \\frac{1}{\\sqrt{2\\pi}\\sigma_{u_{l-1}}} \\int_0^\\infty (u_{l-1}[j])^2 e^{-2\\sigma_{u_{l-1}}^2 u_{l-1}[j]^2} du_{l-1}[j]$\n",
    "\n",
    "$\\mathbb{E}[\\varphi^2(u_{l-1}[j])] = \\frac{\\sqrt{\\sigma_{u_{l-1}}}}{\\sqrt{2\\pi}}\\int_0^\\infty t^2 e^{-2t^2} dt$\n",
    "\n",
    "The integral-\n",
    "\n",
    "$\\int_0^\\infty t^2 e^{-2t^2} dt = \\left[-te^{-2t^2}\\right]_0^\\infty + \\int_0^\\infty e^{-2t^2}dt= 0 + \\sqrt{\\frac{\\pi}{2}}=\\sqrt{\\frac{\\pi}{2}}$\n",
    "\n",
    "so-\n",
    "\n",
    "$\\mathbb{E}[\\varphi^2(u_{l-1}[j])] = \\frac{\\sqrt{\\sigma_{u_{l-1}}}}{\\sqrt{2\\pi}}\\sqrt{\\frac{\\pi}{2}}=\\frac{\\sqrt{\\sigma_{u_{l-1}}}}{2} $\n",
    "\n",
    "$\\sigma_l = \\frac{1}{\\sqrt{\\sum_j \\frac{\\sqrt{\\sigma_{u_{l-1}}}}{2}}}=\\sqrt{\\frac{2}{d_{l-1} \\sigma_{u_{l-1}}}}\\overset{(1)}{=}\\sqrt{\\frac{2}{d_{l-1} }}$\n",
    "\n",
    "(1)$\\sigma^2=1$\n"
   ]
  },
  {
   "cell_type": "markdown",
   "metadata": {
    "id": "Md_wSUXLY1sj"
   },
   "source": [
    "## <img src=\"https://img.icons8.com/clouds/100/000000/question-mark.png\" style=\"height:50px;display:inline\"> Question 5 - MLP and Invaraince\n",
    "---\n",
    "\n",
    "You have to design an MLP with the following input: DNA sequences of length $d$. The DNA is a sequence of bases, where each base can be one of 4 options: $(C, T, G, A)$. Thus, the input can be described as the following matrix: $$ X \\in \\mathcal{R}^{4 \\times d}, $$ where $X[j,i]$ denotes the measured value of base concentration of the $j^{th}$ base at location $i$. \n",
    "\n",
    "The network should output a **binary** classification $y \\in \\{-1, 1\\}$ for a specific property we wish to find. The network will be trained on samples $\\{X^{(n)}, y^{(n)} \\}_{n=1}^{N}$, with a **logistic loss function**.\n",
    "\n",
    "First, we will examine a network with 1 hidden layerof size $4 \\times d$ and a **LeakyReLU** activation $\\phi$: $$ f_w(X) = \\sum_{r=1}^{4}\\sum_{k=1}^d W_2[r,k]\\phi\\left(\\sum_{j=1}^{4}\\sum_{i=1}^d W_1[r, k,j, i]X[j, i] \\right),$$ where $w=\\{W_1, W_2\\}$ are the layers of the weight **tensors**. After training is done, the classification will be done with $\\text{sign}(f(X))$.\n",
    "\n",
    "1. Which invariances exist in the network's parameters?\n",
    "2. Now, we notice the fact that: the *direction* in which the DNA is scanned is arbitrary. Thus, if for two inputs $X, \\tilde{X}$: $$ \\forall i,j: \\: X[j,i] = \\tilde{X}[j, d-i+1], $$ then the two inputs are **equivalent** in their meaning. What constraints should we put on the network's parameters to improve the network's classification performance? Explain why using an **invariant hidden layer** is not optimal.\n",
    "3. After that, we now recall that the DNA bases come in pairs, and thus if for two inputs $X, \\tilde{X}$: $$ \\forall i,j : \\: X[j,i] = \\tilde{X}[(4-j)\\text{mod}4 + 1,i] = \\tilde{X}[5-j,i], $$ then the two inputs are **equivalent** in their meaning. What constraints should we put on the network's parameters to improve the network's classification performance?\n",
    "4. We now notice that the measurement process in noisy, each sample $X^{(n)}$ is in arbitrary scale, and thus if for two $X, \\tilde{X}$: $$ \\forall i,j: \\: X[j,i] = c\\tilde{X}[j,i], $$ for some constant $c>0$, then the two inputs are **equivalent** in their meaning.\n",
    "    * (a) For the given network, that **is already trained**, what is the effect of the scale $c$ on the classification result?\n",
    "    * (b) Can the arbitrary scale hurt the training process? Hint: think what happens to the gradient of each sample.\n",
    "    * (c) How can use this information to improve the classifier performance?"
   ]
  },
  {
   "cell_type": "markdown",
   "metadata": {},
   "source": [
    "### Question 5 - Solution ###\n",
    "\n",
    "1.\n",
    "\n",
    "There is an invariance of the permutation of the neurons in the hidden layer. For every pair of indexes, the output won't change it we swap between them.\n",
    "\n",
    "For illustration:\n",
    "\n",
    "$ W_{2}[r,k] \\longleftrightarrow W_{2}[i,j] $\n",
    "\n",
    "\n",
    "$ W_{1}[i,j,r,k] \\longleftrightarrow W_{1}[r,k,i,j] $\n",
    "\n",
    "\n",
    "\n",
    "2.\n",
    "\n",
    "The representation in the hidden layer will be considered equivariant to the transformation if applying the transformation to both the input and output of the tensor $W_1$ does not alter the tensor. In other words, the tensor $W_1$ should remain unchanged under the transformation.\n",
    "\n",
    "We will require the following constraints:\n",
    "\n",
    "$ \\forall i,j,k,r: W_1[r,k,j,i] = W_1[r,d+1-k,j,d+1-i] $\n",
    "\n",
    "In addition, we want that the output will be invariance for the transformation:\n",
    "\n",
    "$ \\forall r,k: W_2[r,k] = W_2[r,d+1-k] $\n",
    "\n",
    "The second layer is designed to maintain an equivariant representation, followed immediately by average pooling. In other words, there exists a tensor, denoted as $ \\tilde{W}_{2} \\in \\mathbb{R}^{4 \\times d \\times 4 \\times d} $, which can be defined such that:\n",
    "\n",
    "$ \\forall i,j,k,r: \\tilde{W}_{2}[j,i,r,k] = \\tilde{W}_{2}[j, d+1-i,r,d+1-k] $\n",
    "\n",
    "$ W_{2}[k,r] = \\frac{1}{2} \\sum_{j=1}^{4} \\sum_{i=1}^{d} \\tilde{W}_{2}[j,i,r,k] $\n",
    "\n",
    "Then, our constrain is proven:\n",
    "\n",
    "$ \\forall r,k: W_2[r,k] = W_2[r,d+1-k] $\n",
    "\n",
    "The reason that an invariant hidden layer is not optimal: an invariant hidden layer would treat all positions in the DNA sequence as identical, disregarding the positional information. However, the order and arrangement of bases in the DNA sequence often hold crucial information for certain properties or patterns. Therefore, using an invariant hidden layer would discard this positional information, potentially leading to a loss of important features for classification.\n",
    "\n",
    "By incorporating equivariance constraints instead of invariance, we strike a balance by considering the symmetry of the DNA sequence while preserving the positional information. This allows the network to capture relevant patterns regardless of the direction of scanning.\n",
    "\n",
    "3.\n",
    "\n",
    "To improve the network's classification performance while considering the equivalence of inputs based on the pairs of DNA bases, we can impose additional constraints on the network's parameters. Specifically, we can enforce equivariance with respect to the exchange of paired bases.\n",
    "\n",
    "If two inputs $X$ and $\\tilde{X}$ are equivalent under the exchange of paired bases, we can require the following constraints on the network's parameters:\n",
    "\n",
    "a) Equivariance of the first layer: The weights $W_1$ should satisfy the following condition: \n",
    "\n",
    "$ W_1[r,k,j,i] = W_1[(4-r)mod4+1,k,(4-j)mod4+1,i] = W_1[5-r,k,5-j,i]$\n",
    "\n",
    "This ensures that the activations of the hidden layer are equivariant to the exchange of paired bases.\n",
    "\n",
    "b) Equivariance of the second layer: The weights $W_2$ should satisfy the following condition:\n",
    "\n",
    "$ W_2[r,k] = W_2[(4-r)mod4+1,k] = W_2[5-r,k] $\n",
    "\n",
    "This ensures that the output of the network remains equivariant to the exchange of paired bases.\n",
    "\n",
    "By incorporating these additional equivariance constraints, we account for the fact that DNA bases come in pairs. This allows the network to capture patterns and properties that are invariant under the exchange of paired bases.\n",
    "\n",
    "There constraints are in addition to the constraints mentioned earlier regarding equivariance with respect to the reversal of the DNA sequence.\n",
    "\n",
    "\n",
    "\n",
    "4.\n",
    "\n",
    "a) The scale does't affect the clasification result. We can see that $ f(cX) = cf(X) $ so the sign classification doesn't change \n",
    "(c is always positive).\n",
    "\n",
    "\n",
    "b) Due to the fact we use the logistic loss function, the scale can affect the training. The scale will be part of the loss function in the exponent, therfor will still be there in the gradient. This can affect on drastic change on the gradients, therfor large affect on the training. \n",
    "\n",
    "\n",
    "c) To improve the classifier performance considering the arbitrary scale, we can apply a normalization or standardization technique to the input data. This process ensures that the input samples have a similar scale, allowing the network to learn more effectively."
   ]
  },
  {
   "cell_type": "markdown",
   "metadata": {
    "id": "xlqS6Wm3Y1sk"
   },
   "source": [
    "## <img src=\"https://img.icons8.com/clouds/100/000000/question-mark.png\" style=\"height:50px;display:inline\"> Question 6 -VGG Architecture\n",
    "---\n",
    "\n",
    "1. The VGG-11 CNN architecture consists of 11 convolution (CONV)/fully-connected (FC) layers (every CONV layer has the same padding and stride, every MAXPOOL layer is 2×2 and has padding of 0 and stride 2). Fill in the table. You need to **consider the bias**.\n",
    "\n",
    "\n",
    "* CONV$M$-$N$: a convolutional layer of size $M \\times M \\times N$, where $M$ is the kernel size and $N$ is the number of filters. $stride=1, padding=1$. \n",
    "* POOL2: $2 \\times 2$ Max Pooling with $stride=2$\n",
    "    * In case the input of the layer is odd, you should round down. For example, if the output of the layer should be $3.5 \\times 3.5 \\times 3$, you should round to $3 \\times 3 \\times 3$ (i.e., ignore the last column of the input image when performing MaxPooling).\n",
    "* FC-N: a fully connected layer with $N$ neurons.\n",
    "\n",
    "\n",
    "| Layer  | Output Dimension  | Number of Parameters (Weights) |\n",
    "|---|---|---|\n",
    "| INPUT  |  224x224x3 | 0  |\n",
    "|  CONV3-64 | 224x224x64  | 1792  | \n",
    "| ReLU |  224x224x64 | 0  |\n",
    "| POOL2|  112x112x64 | 0  |\n",
    "|CONV3-128 | 112x112x128 | 73856|\n",
    "|ReLU | 112x112x128 | 0|\n",
    "| POOL2| 56x56x128  | 0  |\n",
    "|CONV3-256 | 56x56x256 | 295168|\n",
    "|ReLU | 56x56x256 | 0|\n",
    "|CONV3-256 | 56x56x256 | 590080|\n",
    "|ReLU | 56x56x256 | 0|\n",
    "| POOL2|  28x28x256 | 0  |\n",
    "|CONV3-512 | 28x28x512 | 1180160 |\n",
    "|ReLU | 28x28x512 | 0|\n",
    "|CONV3-512 | 28x28x512 | 2359808|\n",
    "|ReLU | 28x28x512 | 0 |\n",
    "| POOL2|  14x14x512 | 0  |\n",
    "|CONV3-512 | 14x14x512 | 2359808|\n",
    "|ReLU | 14x14x512 | 0|\n",
    "|CONV3-512 | 14x14x512 | 2359808|\n",
    "|ReLU | 14x14x512 | 0|\n",
    "| POOL2|  7x7+409x512 | 0  |\n",
    "| FC-4096|  4096 | 102764544  |\n",
    "| FC-4096|  4096 | 16781312  |\n",
    "| FC-1000|  1000 | 4097000  |\n",
    "| SOFTMAX|  1000 | 0  |\n",
    "\n",
    "2. What is the total number of parameters? (use a calculator for this one)\n",
    "3. What percentage of the weights are found in the fully-connected layers?"
   ]
  },
  {
   "cell_type": "markdown",
   "metadata": {},
   "source": [
    "### Question 6 - Solution ###\n",
    "\n",
    "1. Filled in the above table.\n",
    "2. 132863336 total parameters.\n",
    "3.  93.96 %"
   ]
  },
  {
   "cell_type": "markdown",
   "metadata": {
    "id": "7D-14iM7pGhm"
   },
   "source": [
    "### <img src=\"https://img.icons8.com/officel/80/000000/code.png\" style=\"height:50px;display:inline\"> Part 2 - Code Assignments\n",
    "---\n",
    "* You must write your code in this notebook and save it with the output of all of the code cells.\n",
    "* Additional text can be added in Markdown cells.\n",
    "* You can use any other IDE you like (PyCharm, VSCode...) to write/debug your code, but for the submission you must copy it to this notebook, run the code and save the notebook with the output."
   ]
  },
  {
   "cell_type": "markdown",
   "metadata": {
    "id": "r3fIxzXJY1sm"
   },
   "source": [
    "#### Tips\n",
    "---\n",
    "1. Uniformly distributed tensors - `torch.Tensor(dim1, dim2, ...,dimN).uniform_(-1, 1)`\n",
    "2. Separation to **validation set** in PyTorch - <a href=\"https://gist.github.com/MattKleinsmith/5226a94bad5dd12ed0b871aed98cb123\">See example here</a>."
   ]
  },
  {
   "cell_type": "code",
   "execution_count": 48,
   "metadata": {
    "colab": {
     "base_uri": "https://localhost:8080/"
    },
    "id": "qVv8tkzaY1sm",
    "outputId": "41392bd9-0192-4ebf-eb55-5c9653216e6a"
   },
   "outputs": [
    {
     "data": {
      "text/plain": [
       "<torch._C.Generator at 0x7f82349b9d50>"
      ]
     },
     "execution_count": 48,
     "metadata": {},
     "output_type": "execute_result"
    }
   ],
   "source": [
    "# imports for the practice (you can add more if you need)\n",
    "import os\n",
    "import time\n",
    "import numpy as np\n",
    "import pandas as pd\n",
    "import torch\n",
    "import torch.nn as nn\n",
    "import torch.optim as optim\n",
    "from torch.optim.lr_scheduler import ReduceLROnPlateau\n",
    "from torch.utils.data import TensorDataset, DataLoader\n",
    "import torchvision\n",
    "import torchvision.transforms as transforms\n",
    "import matplotlib.pyplot as plt\n",
    "from sklearn import preprocessing\n",
    "from sklearn.model_selection import train_test_split\n",
    "from sklearn.linear_model import LogisticRegression\n",
    "# %matplotlib notebook\n",
    "%matplotlib inline\n",
    "\n",
    "seed = 211\n",
    "np.random.seed(seed)\n",
    "torch.manual_seed(seed)"
   ]
  },
  {
   "cell_type": "markdown",
   "metadata": {
    "id": "uBSQz-8pY1sp"
   },
   "source": [
    "### <img src=\"https://img.icons8.com/color/48/000000/code.png\" style=\"height:50px;display:inline\"> Task 1 - The Importance of Activation and Initialization\n",
    "---\n",
    "In this task, we are going to use $x \\in \\mathcal{R}^{512}$ and simple neural network that outputs $f(x) \\in \\mathcal{R}^{512}$. The network will have 100 layers with 512 units in each layer.\n",
    "\n",
    "1. We initialize the weights from a unit normal distribution. Run the following code cell and explain what happens. Add a short piece of code that locates when it happens (hint: use `torch.isnan()`). **Print** the layer number.\n",
    "2. We can demonstrate that at a given layer, the matrix product of inputs $x$ and weight matrix $a$ that is initialized from a standard normal distribution will, on average, have a standard deviation very close to the square root of the number of input connections. For our example, with 512 dimensions, show that for 10,000 multiplications of $a$ and $x$, the empirical standard deviation is similar to the square root of the number of input connections. Use the unbiased version: $$ \\hat{std} = \\sqrt{\\frac{\\sum_{i=1}^{10000}\\frac{1}{N}\\sum_{j=1}^N y^2}{10000}}, $$ where $y=ax$ and $N$ is the number of input connections. **Print** the mean, std and the square root of the number of input connections.\n",
    "3. For the code from 1, normalize the weight initialization by the square root of the input connections. How does that change the outcome? **Print** the mean and std after the modification.\n",
    "4. Add a `tanh()` activation after each layer for the code from 1. **Print** the mean and std after the modification. Explain the result.\n",
    "5. Xavier initialization sets a layer’s weights to values chosen from a random uniform distribution that’s bounded between $$\\pm \\sqrt{\\frac{6}{n_i + n_{i+1}}}$$ where $n_i$ is the number of incoming network connections, or “fan-in,” to the layer, and $ n_{i+1}$ is the number of outgoing network connections from that layer, also known as the “fan-out”. Glorot and Bengio believed that Xavier weight initialization would maintain the variance of activations and back-propagated gradients all the way up or down the layers of a network and demonstrated that networks initialized with Xavier achieved substantially quicker convergence and higher accuracy. Implement **Xavier Uniform** as `xavier_init(fan_in, fan_out)`, a function that returns a tensor initialized according to **Xavier Uniform**. Use it on the simple network from 1 with `tanh` activation. **Print** the mean and std after the modification.\n",
    "6. If you try to replace the `tanh` activation with `relu` activation in section 5, you will see very different results. Xavier strives to acheive activation outputs of each layer to have a mean of 0 and a standard deviation around 1, on average. When using a ReLU activation, a single layer will, on average have standard deviation that’s very close to the square root of the number of input connections, **divided by the square root of two** ($\\sqrt{\\frac{512}{2}}$ in our example). **Kaiming He et. al.** proposed an initialization scheme that’s tailored for deep neural nets that use these kinds of asymmetric, non-linear activations. Implement **Kaiming Normal** as `kaiming_init(fan_in, fan_out)`, a function that returns a tensor initialized according to **Kaiming Normal** (use `fan_in` mode). Use it on the simple network from 1 with `relu` activation. **Print** the mean and std after the modification. What happens when you use Xavier with RelU activation?"
   ]
  },
  {
   "cell_type": "code",
   "execution_count": 49,
   "metadata": {
    "colab": {
     "base_uri": "https://localhost:8080/"
    },
    "id": "AlWPlkElY1sp",
    "outputId": "0abd586c-c12c-43dc-fc07-74722090b06e"
   },
   "outputs": [
    {
     "name": "stdout",
     "output_type": "stream",
     "text": [
      "NaN values encountered in layer 28\n",
      "tensor(nan) tensor(nan)\n"
     ]
    }
   ],
   "source": [
    "## 1 ##\n",
    "\n",
    "x = torch.randn(512)\n",
    "for i in range(100):\n",
    "    a = torch.randn(512, 512)\n",
    "    x = a @ x\n",
    "    if torch.isnan(x).any():\n",
    "        print(f\"NaN values encountered in layer {i}\")\n",
    "        break\n",
    "print(x.mean(), x.std())"
   ]
  },
  {
   "cell_type": "markdown",
   "metadata": {
    "id": "oxdFGkmfEzAX"
   },
   "source": [
    "During the matrix-vector multiplication operations, the values in the vector x grew exponentially, resulting in values that went out of the range of representable numbers. Tha's why the mean and std values ara \"nan\"."
   ]
  },
  {
   "cell_type": "markdown",
   "metadata": {
    "id": "18x4arnoY1sq"
   },
   "source": [
    "Your answers here"
   ]
  },
  {
   "cell_type": "code",
   "execution_count": 50,
   "metadata": {
    "colab": {
     "base_uri": "https://localhost:8080/"
    },
    "id": "E6S7f2-HY1sq",
    "outputId": "4b415ff4-a264-4431-8b31-6a2109b8c398"
   },
   "outputs": [
    {
     "name": "stdout",
     "output_type": "stream",
     "text": [
      "Mean: tensor(0.5047)\n",
      "Empirical std: tensor(22.5623)\n",
      "Expected std: 22.627416997969522\n"
     ]
    }
   ],
   "source": [
    "## 2 ##\n",
    "\n",
    "N = 512\n",
    "x = torch.randn(N)\n",
    "std_sum = 0.0\n",
    "for i in range(10000):\n",
    "    a = torch.randn(N, N)\n",
    "    y = a @ x\n",
    "    std_sum += y.pow(2).sum() / N\n",
    "std = torch.sqrt(std_sum / 10000)\n",
    "print(\"Mean:\", y.mean())\n",
    "print(\"Empirical std:\", std)\n",
    "print(\"Expected std:\", np.sqrt(N))\n"
   ]
  },
  {
   "cell_type": "code",
   "execution_count": 51,
   "metadata": {
    "colab": {
     "base_uri": "https://localhost:8080/"
    },
    "id": "mQoNXu8gY1sr",
    "outputId": "fc177bb4-2307-4890-fcc2-e14d43d8a0c8"
   },
   "outputs": [
    {
     "name": "stdout",
     "output_type": "stream",
     "text": [
      "tensor(0.0226) tensor(0.4457)\n"
     ]
    }
   ],
   "source": [
    "## 3 ##\n",
    "\n",
    "x = torch.randn(512)\n",
    "for i in range(100):\n",
    "    a = torch.randn(512, 512) / np.sqrt(512)\n",
    "    x = a @ x\n",
    "    if torch.isnan(x).any():\n",
    "        print(f\"NaN values encountered in layer {i}\")\n",
    "        break\n",
    "print(x.mean(), x.std())\n"
   ]
  },
  {
   "cell_type": "markdown",
   "metadata": {
    "id": "RVzdpdXXY1ss"
   },
   "source": [
    "We can see that we finish all the iterations without exploding. This is because we normalize the weight tensor then we get smaller vallues then the unnormalized. This is due to the reduced variance of the weight values."
   ]
  },
  {
   "cell_type": "code",
   "execution_count": 52,
   "metadata": {
    "colab": {
     "base_uri": "https://localhost:8080/"
    },
    "id": "YG7JJHfTY1ss",
    "outputId": "7fcf3bc1-bc82-443c-d626-cba0ecf29cb3"
   },
   "outputs": [
    {
     "name": "stdout",
     "output_type": "stream",
     "text": [
      "tensor(-0.0642) tensor(0.9795)\n"
     ]
    }
   ],
   "source": [
    "## 4 ##\n",
    "\n",
    "x = torch.randn(512)\n",
    "for i in range(100):\n",
    "    a = torch.randn(512, 512)\n",
    "    x = torch.tanh(a @ x)\n",
    "    if torch.isnan(x).any():\n",
    "        print(f\"NaN values encountered in layer {i}\")\n",
    "        break\n",
    "print(x.mean(), x.std())"
   ]
  },
  {
   "cell_type": "markdown",
   "metadata": {
    "id": "JNnbYC4mY1ss"
   },
   "source": [
    "We can see that the mean got close to 0 and and standard deviation got close to 1, like normal distribution. This is because the activation function tanh() is a symetric function the gives output between -1 to 1."
   ]
  },
  {
   "cell_type": "code",
   "execution_count": 53,
   "metadata": {
    "colab": {
     "base_uri": "https://localhost:8080/"
    },
    "id": "J0IKsjzNY1st",
    "outputId": "26cb7b9c-5d02-4159-f33d-fde4943f3804"
   },
   "outputs": [
    {
     "name": "stdout",
     "output_type": "stream",
     "text": [
      "tensor(-0.0030) tensor(0.0582)\n"
     ]
    }
   ],
   "source": [
    "## 5 ##\n",
    "\n",
    "def xavier_init(fan_in, fan_out):\n",
    "    bound = np.sqrt(6 / (fan_in + fan_out) )\n",
    "    a = torch.Tensor(fan_in, fan_out).uniform_(-bound, bound)\n",
    "    return a\n",
    "\n",
    "\n",
    "x = torch.randn(512)\n",
    "for i in range(100):\n",
    "    a = xavier_init(512, 512)\n",
    "    x = torch.tanh(a @ x)\n",
    "    if torch.isnan(x).any():\n",
    "        print(f\"NaN values encountered in layer {i}\")\n",
    "        break\n",
    "print(x.mean(), x.std())"
   ]
  },
  {
   "cell_type": "code",
   "execution_count": 55,
   "metadata": {
    "colab": {
     "base_uri": "https://localhost:8080/"
    },
    "id": "oR77mNJnY1st",
    "outputId": "d4adedd6-a70d-4ecc-e663-ed99c7bf003d"
   },
   "outputs": [
    {
     "name": "stdout",
     "output_type": "stream",
     "text": [
      "tensor(0.5406) tensor(0.7847)\n",
      "tensor(3.7030e-16) tensor(5.3187e-16)\n"
     ]
    }
   ],
   "source": [
    "## 6 ##\n",
    "\n",
    "def kaiming_init(fan_in, fan_out):\n",
    "    std = np.sqrt(2/fan_in)\n",
    "    return torch.randn(fan_in, fan_out).normal_(0 , std)\n",
    "\n",
    "\n",
    "x = torch.randn(512)\n",
    "for i in range(100):\n",
    "    a = kaiming_init(512, 512)\n",
    "    x = torch.relu(a @ x)\n",
    "    if torch.isnan(x).any():\n",
    "        print(f\"NaN values encountered in layer {i}\")\n",
    "        break\n",
    "print(x.mean(), x.std())\n",
    "\n",
    "x = torch.randn(512)\n",
    "for i in range(100):\n",
    "    a = xavier_init(512, 512)\n",
    "    x = torch.relu(a @ x)\n",
    "print(x.mean(), x.std())"
   ]
  },
  {
   "cell_type": "markdown",
   "metadata": {
    "id": "04HyB_ITGb54"
   },
   "source": [
    "We can see that the use of xavier_init and Relu cause the std to go to zero. That will cause the stopping of the leraning algorithm, also called gradient vanishing."
   ]
  },
  {
   "cell_type": "markdown",
   "metadata": {
    "id": "i6vOQPn4Y1st"
   },
   "source": [
    "### <img src=\"https://img.icons8.com/color/48/000000/code.png\" style=\"height:50px;display:inline\"> Task 2 - MLP-based Deep Classifer\n",
    "---\n",
    "In this task you are going to design and train your first neural network for classification.\n",
    "\n",
    "For this task, we will use the \"<a href=\"https://archive.ics.uci.edu/ml/datasets/MAGIC+Gamma+Telescope\">MAGIC Gamma Telescope Data Set\"</a>. Cherenkov gamma telescope observes high energy gamma rays, taking advantage of the radiation emitted by charged particles produced inside the electromagnetic showers initiated by the gammas, and developing in the atmosphere. This Cherenkov radiation (of visible to UV wavelengths) leaks through the atmosphere and gets recorded in the detector, allowing reconstruction of the shower parameters. The available information consists of pulses left by the incoming Cherenkov photons on the photomultiplier tubes, arranged in a plane, the camera. \n",
    "\n",
    "Depending on the energy of the primary gamma, a total of few hundreds to some 10000 Cherenkov photons get collected, in patterns (called the shower image), allowing to discriminate statistically those caused by primary gammas (**signal**) from the images of hadronic showers initiated by cosmic rays in the upper atmosphere (**background**).\n",
    "\n",
    "Our data has 10 features and 2 classes (signal and background).\n",
    "\n",
    "1. Load the MAGIC dataset sored in `magic04.data` and display the first 5 features (just run the cell).\n",
    "2. Separate the data to train, validation and test, reserve 10% of the data for validation and 20% for test.\n",
    "3. Perform pre-processing steps of your choice and convert the class label from `str` to `int` (for example, `y_train = np.array([0 if y_train[i] == 'g' else 1 for i in range(len(y_train))]).astype(np.int)`).\n",
    "4. Train a Logistic Regression model from `sklearn` as a baseline for our neural network (only for this section use both the train and validation sets for training the classifier). **Print the test accuracy**.\n",
    "5. Convert the `numpy` arrays to `torch` tensors with `TensorDataset` as done in the tutorial.\n",
    "6. Design a **MLP** to classify the data. Optimize the hyper-parameters of your model using the accuracy on the validation set, and when you are satisfied with the model train it on both the train and validation sets and evaluate it on the test set. **You need to reach at least 85% accuracy on the test set, and 87% for a full grade**.\n",
    "    * You have a free choice of architecture, optimizer, learning scheduler, initialization, regularization and activations.\n",
    "    * The loss criterion is binary cross entropy: `nn.BCEWithLogitsLoss()` (performs `sigmoid` for you) or `nn.BCELoss` (you need to apply `sigmoid` on the network output yourself).\n",
    "    * In a Markdown block, write down the chosen architectures and all the hyper-parameters.\n",
    "        * Make sure to describe any design choice that you used to improve the performance (e.g. if you used a certain regularization or layer, mention it and describe why you think it helped).\n",
    "    * **Plot** the loss curves (and any oter statistic you want) as a function of epochs/iterations. **Print** the final performance.\n",
    "    * **Print** the test accuracy.\n",
    "3. Change the initialization of the linear layers and re-train the model (with the same optimal hyper-parameters you found). You can pick an initialization of your choosing from : https://pytorch.org/docs/stable/nn.init.html . See example below how to use. **Print** the change in accuracy."
   ]
  },
  {
   "cell_type": "code",
   "execution_count": 60,
   "metadata": {
    "colab": {
     "base_uri": "https://localhost:8080/",
     "height": 206
    },
    "id": "445KVNjFY1su",
    "outputId": "246f99ed-f4bd-4609-97a4-0cda88e8e8f0"
   },
   "outputs": [
    {
     "data": {
      "text/html": [
       "\n",
       "  <div id=\"df-2361c312-9018-437a-a0ad-79cf0558ab79\">\n",
       "    <div class=\"colab-df-container\">\n",
       "      <div>\n",
       "<style scoped>\n",
       "    .dataframe tbody tr th:only-of-type {\n",
       "        vertical-align: middle;\n",
       "    }\n",
       "\n",
       "    .dataframe tbody tr th {\n",
       "        vertical-align: top;\n",
       "    }\n",
       "\n",
       "    .dataframe thead th {\n",
       "        text-align: right;\n",
       "    }\n",
       "</style>\n",
       "<table border=\"1\" class=\"dataframe\">\n",
       "  <thead>\n",
       "    <tr style=\"text-align: right;\">\n",
       "      <th></th>\n",
       "      <th>fLength</th>\n",
       "      <th>fWidth</th>\n",
       "      <th>fSize</th>\n",
       "      <th>fConc</th>\n",
       "      <th>fConc1</th>\n",
       "      <th>fAsym</th>\n",
       "      <th>fM3Long</th>\n",
       "      <th>fM3Trans</th>\n",
       "      <th>fAlpha</th>\n",
       "      <th>fDist</th>\n",
       "      <th>class</th>\n",
       "    </tr>\n",
       "  </thead>\n",
       "  <tbody>\n",
       "    <tr>\n",
       "      <th>0</th>\n",
       "      <td>28.7967</td>\n",
       "      <td>16.0021</td>\n",
       "      <td>2.6449</td>\n",
       "      <td>0.3918</td>\n",
       "      <td>0.1982</td>\n",
       "      <td>27.7004</td>\n",
       "      <td>22.0110</td>\n",
       "      <td>-8.2027</td>\n",
       "      <td>40.0920</td>\n",
       "      <td>81.8828</td>\n",
       "      <td>g</td>\n",
       "    </tr>\n",
       "    <tr>\n",
       "      <th>1</th>\n",
       "      <td>31.6036</td>\n",
       "      <td>11.7235</td>\n",
       "      <td>2.5185</td>\n",
       "      <td>0.5303</td>\n",
       "      <td>0.3773</td>\n",
       "      <td>26.2722</td>\n",
       "      <td>23.8238</td>\n",
       "      <td>-9.9574</td>\n",
       "      <td>6.3609</td>\n",
       "      <td>205.2610</td>\n",
       "      <td>g</td>\n",
       "    </tr>\n",
       "    <tr>\n",
       "      <th>2</th>\n",
       "      <td>162.0520</td>\n",
       "      <td>136.0310</td>\n",
       "      <td>4.0612</td>\n",
       "      <td>0.0374</td>\n",
       "      <td>0.0187</td>\n",
       "      <td>116.7410</td>\n",
       "      <td>-64.8580</td>\n",
       "      <td>-45.2160</td>\n",
       "      <td>76.9600</td>\n",
       "      <td>256.7880</td>\n",
       "      <td>g</td>\n",
       "    </tr>\n",
       "    <tr>\n",
       "      <th>3</th>\n",
       "      <td>23.8172</td>\n",
       "      <td>9.5728</td>\n",
       "      <td>2.3385</td>\n",
       "      <td>0.6147</td>\n",
       "      <td>0.3922</td>\n",
       "      <td>27.2107</td>\n",
       "      <td>-6.4633</td>\n",
       "      <td>-7.1513</td>\n",
       "      <td>10.4490</td>\n",
       "      <td>116.7370</td>\n",
       "      <td>g</td>\n",
       "    </tr>\n",
       "    <tr>\n",
       "      <th>4</th>\n",
       "      <td>75.1362</td>\n",
       "      <td>30.9205</td>\n",
       "      <td>3.1611</td>\n",
       "      <td>0.3168</td>\n",
       "      <td>0.1832</td>\n",
       "      <td>-5.5277</td>\n",
       "      <td>28.5525</td>\n",
       "      <td>21.8393</td>\n",
       "      <td>4.6480</td>\n",
       "      <td>356.4620</td>\n",
       "      <td>g</td>\n",
       "    </tr>\n",
       "  </tbody>\n",
       "</table>\n",
       "</div>\n",
       "      <button class=\"colab-df-convert\" onclick=\"convertToInteractive('df-2361c312-9018-437a-a0ad-79cf0558ab79')\"\n",
       "              title=\"Convert this dataframe to an interactive table.\"\n",
       "              style=\"display:none;\">\n",
       "        \n",
       "  <svg xmlns=\"http://www.w3.org/2000/svg\" height=\"24px\"viewBox=\"0 0 24 24\"\n",
       "       width=\"24px\">\n",
       "    <path d=\"M0 0h24v24H0V0z\" fill=\"none\"/>\n",
       "    <path d=\"M18.56 5.44l.94 2.06.94-2.06 2.06-.94-2.06-.94-.94-2.06-.94 2.06-2.06.94zm-11 1L8.5 8.5l.94-2.06 2.06-.94-2.06-.94L8.5 2.5l-.94 2.06-2.06.94zm10 10l.94 2.06.94-2.06 2.06-.94-2.06-.94-.94-2.06-.94 2.06-2.06.94z\"/><path d=\"M17.41 7.96l-1.37-1.37c-.4-.4-.92-.59-1.43-.59-.52 0-1.04.2-1.43.59L10.3 9.45l-7.72 7.72c-.78.78-.78 2.05 0 2.83L4 21.41c.39.39.9.59 1.41.59.51 0 1.02-.2 1.41-.59l7.78-7.78 2.81-2.81c.8-.78.8-2.07 0-2.86zM5.41 20L4 18.59l7.72-7.72 1.47 1.35L5.41 20z\"/>\n",
       "  </svg>\n",
       "      </button>\n",
       "      \n",
       "  <style>\n",
       "    .colab-df-container {\n",
       "      display:flex;\n",
       "      flex-wrap:wrap;\n",
       "      gap: 12px;\n",
       "    }\n",
       "\n",
       "    .colab-df-convert {\n",
       "      background-color: #E8F0FE;\n",
       "      border: none;\n",
       "      border-radius: 50%;\n",
       "      cursor: pointer;\n",
       "      display: none;\n",
       "      fill: #1967D2;\n",
       "      height: 32px;\n",
       "      padding: 0 0 0 0;\n",
       "      width: 32px;\n",
       "    }\n",
       "\n",
       "    .colab-df-convert:hover {\n",
       "      background-color: #E2EBFA;\n",
       "      box-shadow: 0px 1px 2px rgba(60, 64, 67, 0.3), 0px 1px 3px 1px rgba(60, 64, 67, 0.15);\n",
       "      fill: #174EA6;\n",
       "    }\n",
       "\n",
       "    [theme=dark] .colab-df-convert {\n",
       "      background-color: #3B4455;\n",
       "      fill: #D2E3FC;\n",
       "    }\n",
       "\n",
       "    [theme=dark] .colab-df-convert:hover {\n",
       "      background-color: #434B5C;\n",
       "      box-shadow: 0px 1px 3px 1px rgba(0, 0, 0, 0.15);\n",
       "      filter: drop-shadow(0px 1px 2px rgba(0, 0, 0, 0.3));\n",
       "      fill: #FFFFFF;\n",
       "    }\n",
       "  </style>\n",
       "\n",
       "      <script>\n",
       "        const buttonEl =\n",
       "          document.querySelector('#df-2361c312-9018-437a-a0ad-79cf0558ab79 button.colab-df-convert');\n",
       "        buttonEl.style.display =\n",
       "          google.colab.kernel.accessAllowed ? 'block' : 'none';\n",
       "\n",
       "        async function convertToInteractive(key) {\n",
       "          const element = document.querySelector('#df-2361c312-9018-437a-a0ad-79cf0558ab79');\n",
       "          const dataTable =\n",
       "            await google.colab.kernel.invokeFunction('convertToInteractive',\n",
       "                                                     [key], {});\n",
       "          if (!dataTable) return;\n",
       "\n",
       "          const docLinkHtml = 'Like what you see? Visit the ' +\n",
       "            '<a target=\"_blank\" href=https://colab.research.google.com/notebooks/data_table.ipynb>data table notebook</a>'\n",
       "            + ' to learn more about interactive tables.';\n",
       "          element.innerHTML = '';\n",
       "          dataTable['output_type'] = 'display_data';\n",
       "          await google.colab.output.renderOutput(dataTable, element);\n",
       "          const docLink = document.createElement('div');\n",
       "          docLink.innerHTML = docLinkHtml;\n",
       "          element.appendChild(docLink);\n",
       "        }\n",
       "      </script>\n",
       "    </div>\n",
       "  </div>\n",
       "  "
      ],
      "text/plain": [
       "    fLength    fWidth   fSize   fConc  fConc1     fAsym  fM3Long  fM3Trans  \\\n",
       "0   28.7967   16.0021  2.6449  0.3918  0.1982   27.7004  22.0110   -8.2027   \n",
       "1   31.6036   11.7235  2.5185  0.5303  0.3773   26.2722  23.8238   -9.9574   \n",
       "2  162.0520  136.0310  4.0612  0.0374  0.0187  116.7410 -64.8580  -45.2160   \n",
       "3   23.8172    9.5728  2.3385  0.6147  0.3922   27.2107  -6.4633   -7.1513   \n",
       "4   75.1362   30.9205  3.1611  0.3168  0.1832   -5.5277  28.5525   21.8393   \n",
       "\n",
       "    fAlpha     fDist class  \n",
       "0  40.0920   81.8828     g  \n",
       "1   6.3609  205.2610     g  \n",
       "2  76.9600  256.7880     g  \n",
       "3  10.4490  116.7370     g  \n",
       "4   4.6480  356.4620     g  "
      ]
     },
     "execution_count": 60,
     "metadata": {},
     "output_type": "execute_result"
    }
   ],
   "source": [
    "## 1 ##\n",
    "\n",
    "\n",
    "# loading the data\n",
    "col_names = ['fLength', 'fWidth', 'fSize', 'fConc', 'fConc1', 'fAsym',  'fM3Long', 'fM3Trans', 'fAlpha', 'fDist', 'class']\n",
    "feature_names = ['fLength', 'fWidth', 'fSize', 'fConc', 'fConc1', 'fAsym',  'fM3Long', 'fM3Trans', 'fAlpha', 'fDist']\n",
    "data = pd.read_csv(\"./magic04.data\", names=col_names)\n",
    "X = data[feature_names]\n",
    "Y = data['class']\n",
    "data.head()"
   ]
  },
  {
   "cell_type": "code",
   "execution_count": 61,
   "metadata": {
    "id": "9CUhBFlMY1su"
   },
   "outputs": [],
   "source": [
    "## 2 ##\n",
    "\n",
    "\n",
    "# separate to train, test\n",
    "X_train, X_other, Y_train, Y_other = train_test_split(X, Y, test_size=0.3, random_state=seed)\n",
    "X_test, X_val, Y_test, Y_val = train_test_split(X, Y, test_size=0.1, random_state=seed)"
   ]
  },
  {
   "cell_type": "code",
   "execution_count": 62,
   "metadata": {
    "id": "pkgczulOY1su"
   },
   "outputs": [],
   "source": [
    "## 3 ##\n",
    "\n",
    "\n",
    "# pre-processing and converting labels to integers\n",
    "scaler = preprocessing.StandardScaler()\n",
    "X_train = scaler.fit_transform(X_train)\n",
    "X_test = scaler.transform(X_test)\n",
    "X_val = scaler.transform(X_val)\n",
    "\n",
    "le = preprocessing.LabelEncoder()\n",
    "Y_train = le.fit_transform(Y_train)\n",
    "Y_test = le.transform(Y_test)\n",
    "Y_val = le.transform(Y_val)"
   ]
  },
  {
   "cell_type": "code",
   "execution_count": 79,
   "metadata": {
    "colab": {
     "base_uri": "https://localhost:8080/"
    },
    "id": "lte2YK4SY1sv",
    "outputId": "7b398638-1bbd-4074-98bc-694a565d97c3"
   },
   "outputs": [
    {
     "name": "stdout",
     "output_type": "stream",
     "text": [
      "Number of mislabeled points 1 out of 13314 total points.\n",
      "Logistic Regression Model accuracy =  79.35506484402384\n"
     ]
    }
   ],
   "source": [
    "## 4 ##\n",
    "\n",
    "\n",
    "# training a Logistic Regression baseline - complete the code with your variables\n",
    "logstic_model = LogisticRegression(solver='lbfgs')\n",
    "y_pred = logstic_model.fit(np.vstack((X_train, X_val)), np.concatenate((Y_train, Y_val))).predict(X_test)\n",
    "print(\"Number of mislabeled points %d out of %d total points.\" % (np.count_nonzero(list(np.concatenate((Y_train, Y_val))) != list(y_pred)), X_train.shape[0]))\n",
    "print(\"Logistic Regression Model accuracy = \"  , logstic_model.score(X_test, Y_test) * 100) "
   ]
  },
  {
   "cell_type": "code",
   "execution_count": 80,
   "metadata": {
    "id": "lNAOeqKdY1sv"
   },
   "outputs": [],
   "source": [
    "## 5 ##\n",
    "\n",
    "\n",
    "# create TensorDataset from numpy arrays\n",
    "\n",
    "# Convert numpy arrays to PyTorch tensors\n",
    "X_train_tensor = torch.tensor(X_train, dtype=torch.float32)\n",
    "Y_train_tensor = torch.tensor(Y_train, dtype=torch.float32)\n",
    "X_val_tensor = torch.tensor(X_val, dtype=torch.float32)\n",
    "Y_val_tensor = torch.tensor(Y_val, dtype=torch.float32)\n",
    "X_test_tensor = torch.tensor(X_test, dtype=torch.float32)\n",
    "Y_test_tensor = torch.tensor(Y_test, dtype=torch.float32)\n",
    "\n",
    "# Create TensorDatasets for the train, validation, and test sets\n",
    "train_dataset = TensorDataset(X_train_tensor, Y_train_tensor)\n",
    "val_dataset = TensorDataset(X_val_tensor, Y_val_tensor)\n",
    "test_dataset = TensorDataset(X_test_tensor, Y_test_tensor)"
   ]
  },
  {
   "cell_type": "markdown",
   "metadata": {
    "id": "jbPdQVF0SI9b"
   },
   "source": [
    "**The chosen architecture:**\n",
    "\n",
    "\n",
    "  * 1 Hidden layers\n",
    "  * 2 FC layers\n",
    "  * ReLU Activation function on the first layer\n",
    "  * The input size is feature length \n",
    "  * The size of hidden layer is 64\n",
    "  * The output of output layer is 1\n",
    "  * Loss function: BCEWithLogitsLoss\n",
    "  * Optimizer: Adam\n",
    "  * Learning rate: 0.005\n",
    "  * Batch size: 128\n",
    "  * Epochs: 500\n"
   ]
  },
  {
   "cell_type": "code",
   "execution_count": 81,
   "metadata": {
    "id": "fwOqozsHY1sw"
   },
   "outputs": [],
   "source": [
    "## 6 ##\n",
    "\n",
    "\n",
    "# model, hyoer-paramerters and training\n",
    "\n",
    "class MLP(nn.Module):\n",
    "    def __init__(self, input_size, hidden_size, output_size):\n",
    "        super(MLP, self).__init__()\n",
    "        self.fc1 = nn.Linear(input_size, hidden_size)\n",
    "        self.fc2 = nn.Linear(hidden_size, output_size)\n",
    "        self.activation = nn.ReLU()\n",
    "        \n",
    "    def forward(self, x):\n",
    "        x = self.fc1(x)\n",
    "        x = self.activation(x)\n",
    "        x = self.fc2(x)\n",
    "        return x"
   ]
  },
  {
   "cell_type": "code",
   "execution_count": 118,
   "metadata": {
    "id": "7xjRDGs7Y1sw"
   },
   "outputs": [],
   "source": [
    "# define hyper-parmeters and create our model\n",
    "input_size = X_train.shape[1]\n",
    "hidden_size = 64\n",
    "output_dim = 1\n",
    "batch_size = 128\n",
    "learning_rate = 0.005\n",
    "num_epochs = 200\n",
    "# device\n",
    "device = torch.device(\"cuda:0\" if torch.cuda.is_available() else \"cpu\")\n",
    "# loss criterion\n",
    "criterion = nn.BCEWithLogitsLoss()\n",
    "# model\n",
    "model = MLP(input_size, hidden_size, output_dim).to(device)\n",
    "# optimizer\n",
    "optimizer = torch.optim.Adam(model.parameters(), lr=learning_rate)"
   ]
  },
  {
   "cell_type": "code",
   "execution_count": 119,
   "metadata": {
    "id": "smG2Q8fYY1sx"
   },
   "outputs": [],
   "source": [
    "# combine train and validation sets\n",
    "X_trainval = torch.cat([X_train_tensor, X_val_tensor])\n",
    "Y_trainval = torch.cat([Y_train_tensor, Y_val_tensor])\n",
    "\n",
    "# create TensorDataset\n",
    "trainval_dataset = TensorDataset(X_trainval, Y_trainval)\n",
    "\n",
    "# create DataLoader\n",
    "trainval_loader = DataLoader(trainval_dataset, batch_size=batch_size, shuffle=True)\n",
    "train_loader = DataLoader(train_dataset, batch_size=batch_size, shuffle=True)\n",
    "val_loader = DataLoader(val_dataset, batch_size=batch_size, shuffle=True)\n",
    "test_loader = DataLoader(test_dataset, batch_size=batch_size, shuffle=True)"
   ]
  },
  {
   "cell_type": "code",
   "execution_count": 120,
   "metadata": {
    "colab": {
     "base_uri": "https://localhost:8080/"
    },
    "id": "58_NrGUWY1sx",
    "outputId": "c4d8f272-1308-46b0-89d3-5e951d24824f"
   },
   "outputs": [
    {
     "name": "stdout",
     "output_type": "stream",
     "text": [
      "epoch: 0 train loss: 0.44044393669991266 validation loss: 0.40227439999580383\n",
      "epoch: 50 train loss: 0.2891686192403237 validation loss: 0.33242395520210266\n",
      "epoch: 100 train loss: 0.27251051692735584 validation loss: 0.3437139391899109\n",
      "epoch: 150 train loss: 0.26258398109958286 validation loss: 0.32861554622650146\n"
     ]
    }
   ],
   "source": [
    "# training loop for the model\n",
    "train_losses = []\n",
    "val_losses = []\n",
    "for epoch in range(num_epochs):\n",
    "    model.train()\n",
    "    epoch_losses = []\n",
    "    for features, targets in train_loader:\n",
    "        # send data to device\n",
    "        features = features.to(device)\n",
    "        targets = targets.to(device)\n",
    "        # forward pass\n",
    "        output = model(features)\n",
    "        # loss\n",
    "        loss = criterion(output.view(-1), targets)\n",
    "        # backward pass\n",
    "        optimizer.zero_grad()  # clean the gradients from previous iteration\n",
    "        loss.backward()  # autograd backward to calculate gradients\n",
    "        optimizer.step()  # apply update to the weights\n",
    "        epoch_losses.append(loss.item())\n",
    "    train_losses.append(np.mean(epoch_losses))\n",
    "\n",
    "    # Calculate validation loss\n",
    "    model.eval() # put in evaluation mode\n",
    "    val_loss = 0.0\n",
    "    with torch.no_grad():\n",
    "      for features, targets in val_loader:\n",
    "        features = features.to(device)\n",
    "        targets = targets.to(device)\n",
    "        output = model(features)\n",
    "        val_loss += criterion(output.view(-1), targets)\n",
    "    val_loss /= len(val_loader)\n",
    "    val_losses.append(val_loss)\n",
    "\n",
    "\n",
    "    if epoch % 50 == 0:\n",
    "        print(f'epoch: {epoch} train loss: {train_losses[-1]} validation loss: {val_losses[-1]}')"
   ]
  },
  {
   "cell_type": "code",
   "execution_count": 121,
   "metadata": {
    "colab": {
     "base_uri": "https://localhost:8080/",
     "height": 449
    },
    "id": "C9OweAjTY1sy",
    "outputId": "bf276e20-dc8a-49b8-8de0-24d51f356fe7"
   },
   "outputs": [
    {
     "data": {
      "image/png": "[encoded data removed]",
      "text/plain": [
       "<Figure size 640x480 with 1 Axes>"
      ]
     },
     "metadata": {},
     "output_type": "display_data"
    }
   ],
   "source": [
    "# plot the loss curves\n",
    "\n",
    "\n",
    "val_losses_cpu = [loss.cpu() for loss in val_losses]\n",
    "\n",
    "plt.plot(train_losses, label='Training loss')\n",
    "plt.plot(val_losses_cpu, label='Validation loss')\n",
    "plt.xlabel('Epochs')\n",
    "plt.ylabel('Loss')\n",
    "plt.legend()\n",
    "plt.show()"
   ]
  },
  {
   "cell_type": "code",
   "execution_count": 122,
   "metadata": {
    "colab": {
     "base_uri": "https://localhost:8080/"
    },
    "id": "tMAI5O7_Y1sz",
    "outputId": "5eb7d0f3-0ad5-4b68-c2c3-0d217c97b94d"
   },
   "outputs": [
    {
     "name": "stdout",
     "output_type": "stream",
     "text": [
      "Val Accuracy: 86.44%\n"
     ]
    }
   ],
   "source": [
    "# evaluate on validation set\n",
    "with torch.no_grad():\n",
    "    correct = 0\n",
    "    total = 0\n",
    "    for inputs, labels in val_loader:\n",
    "        inputs = inputs.to(device)\n",
    "        labels = labels.to(device)\n",
    "        outputs = model(inputs)\n",
    "        predicted = torch.round(torch.sigmoid(outputs))\n",
    "        total += labels.size(0)\n",
    "        correct += (predicted == labels.unsqueeze(1)).sum().item()\n",
    "\n",
    "    val_acc = 100 * correct / total\n",
    "    print('Val Accuracy: {:.2f}%'.format(val_acc))"
   ]
  },
  {
   "cell_type": "code",
   "execution_count": 123,
   "metadata": {
    "colab": {
     "base_uri": "https://localhost:8080/"
    },
    "id": "4XTT0gTeY1sz",
    "outputId": "3dbeaeee-7316-4676-fc39-50a548bd8be6"
   },
   "outputs": [
    {
     "name": "stdout",
     "output_type": "stream",
     "text": [
      "epoch: 0 loss total: 0.26699534033526895\n",
      "epoch: 50 loss total: 0.2648416897829841\n",
      "epoch: 100 loss total: 0.2639967642035805\n",
      "epoch: 150 loss total: 0.26113272101438345\n"
     ]
    }
   ],
   "source": [
    "# training loop for the model - train + val\n",
    "loss_total_trainval = []\n",
    "for epoch in range(num_epochs):\n",
    "    epoch_losses_tarinval = []\n",
    "    for features, targets in trainval_loader:\n",
    "        # send data to device\n",
    "        features = features.to(device)\n",
    "        targets = targets.to(device)\n",
    "        # forward pass\n",
    "        output = model(features)\n",
    "        # loss\n",
    "        loss = criterion(output.view(-1), targets)\n",
    "        # backward pass\n",
    "        optimizer.zero_grad()  # clean the gradients from previous iteration\n",
    "        loss.backward()  # autograd backward to calculate gradients\n",
    "        optimizer.step()  # apply update to the weights\n",
    "        epoch_losses_tarinval.append(loss.item())\n",
    "    loss_total_trainval.append(np.mean(epoch_losses_tarinval))\n",
    "    if epoch % 50 == 0:\n",
    "        print(f'epoch: {epoch} loss total: {loss_total_trainval[-1]}')"
   ]
  },
  {
   "cell_type": "code",
   "execution_count": 124,
   "metadata": {
    "colab": {
     "base_uri": "https://localhost:8080/",
     "height": 449
    },
    "id": "_LAibENdY1s1",
    "outputId": "4d8730b8-9018-4886-b822-f6e265f67ac0"
   },
   "outputs": [
    {
     "data": {
      "image/png": "[encoded data removed]",
      "text/plain": [
       "<Figure size 640x480 with 1 Axes>"
      ]
     },
     "metadata": {},
     "output_type": "display_data"
    }
   ],
   "source": [
    "# plot the loss curves\n",
    "plt.plot(loss_total_trainval, label='Training + Validation loss')\n",
    "plt.xlabel('Epochs')\n",
    "plt.ylabel('Loss')\n",
    "plt.legend()\n",
    "plt.show()"
   ]
  },
  {
   "cell_type": "code",
   "execution_count": 125,
   "metadata": {
    "colab": {
     "base_uri": "https://localhost:8080/"
    },
    "id": "aO6n59j2Y1s2",
    "outputId": "41b42316-63b0-4827-a0d2-a7a1f0b50b7e"
   },
   "outputs": [
    {
     "name": "stdout",
     "output_type": "stream",
     "text": [
      "test Accuracy: 89.30%\n"
     ]
    }
   ],
   "source": [
    "# evaluate on test set\n",
    "with torch.no_grad():\n",
    "    correct = 0\n",
    "    total = 0\n",
    "    for inputs, labels in test_loader:\n",
    "        inputs = inputs.to(device)\n",
    "        labels = labels.to(device)\n",
    "        outputs = model(inputs)\n",
    "        predicted = torch.round(torch.sigmoid(outputs))\n",
    "        total += labels.size(0)\n",
    "        correct += (predicted == labels.unsqueeze(1)).sum().item()\n",
    "\n",
    "    test_acc = 100 * correct / total\n",
    "    print('test Accuracy: {:.2f}%'.format(test_acc))"
   ]
  },
  {
   "cell_type": "code",
   "execution_count": 126,
   "metadata": {
    "id": "Rkp1EnbLY1s2"
   },
   "outputs": [],
   "source": [
    "## 7 ##.\n",
    "\n",
    "\n",
    "# define the model with weight initialization\n",
    "\n",
    "class MLP(nn.Module):\n",
    "    def __init__(self, input_size, hidden_size, output_size):\n",
    "        super(MLP, self).__init__()\n",
    "        self.fc1 = nn.Linear(input_size, hidden_size)\n",
    "        init.xavier_uniform_(self.fc1.weight)\n",
    "        self.fc2 = nn.Linear(hidden_size, output_size)\n",
    "        init.xavier_uniform_(self.fc2.weight)\n",
    "        self.activation = nn.ReLU()\n",
    "        self.init_weights()\n",
    "        \n",
    "    def init_weights(self):\n",
    "        for m in self.modules():\n",
    "            if isinstance(m, nn.Linear):\n",
    "                nn.init.xavier_uniform_(w)\n",
    "                \n",
    "    def forward(self, x):\n",
    "        x = self.fc1(x)\n",
    "        x = self.activation(x)\n",
    "        x = self.fc2(x)\n",
    "        return x"
   ]
  },
  {
   "cell_type": "code",
   "execution_count": 127,
   "metadata": {
    "colab": {
     "base_uri": "https://localhost:8080/"
    },
    "id": "OC-KlqjZY1s3",
    "outputId": "95ac68bb-d85f-4f47-f659-295a6e0d93d5"
   },
   "outputs": [
    {
     "name": "stdout",
     "output_type": "stream",
     "text": [
      "epoch: 0 loss: 0.2562101383169158\n",
      "epoch: 50 loss: 0.25897029730953086\n",
      "epoch: 100 loss: 0.25695107163501385\n",
      "epoch: 150 loss: 0.25458968474584465\n"
     ]
    }
   ],
   "source": [
    "# training loop for the model - train + val\n",
    "for epoch in range(num_epochs):\n",
    "    epoch_losses_tarinval = []\n",
    "    for features, targets in trainval_loader:\n",
    "        # send data to device\n",
    "        features = features.to(device)\n",
    "        targets = targets.to(device)\n",
    "        # forward pass\n",
    "        output = model(features)\n",
    "        # loss\n",
    "        loss = criterion(output.view(-1), targets)\n",
    "        # backward pass\n",
    "        optimizer.zero_grad()  # clean the gradients from previous iteration\n",
    "        loss.backward()  # autograd backward to calculate gradients\n",
    "        optimizer.step()  # apply update to the weights\n",
    "        epoch_losses_tarinval.append(loss.item())\n",
    "    if epoch % 50 == 0:\n",
    "        print(f'epoch: {epoch} loss: {np.mean(epoch_losses_tarinval)}')"
   ]
  },
  {
   "cell_type": "code",
   "execution_count": 128,
   "metadata": {
    "colab": {
     "base_uri": "https://localhost:8080/"
    },
    "id": "W94ieWr9Y1s4",
    "outputId": "eb287fbd-7fc9-4bfd-8f3f-fb04147e976c"
   },
   "outputs": [
    {
     "name": "stdout",
     "output_type": "stream",
     "text": [
      "test Accuracy: 89.30%\n",
      "test init Accuracy: 89.70%\n",
      "The change in Accuracy: 0.40%\n"
     ]
    }
   ],
   "source": [
    "# evaluate on test set\n",
    "with torch.no_grad():\n",
    "    correct = 0\n",
    "    total = 0\n",
    "    for inputs, labels in test_loader:\n",
    "        inputs = inputs.to(device)\n",
    "        labels = labels.to(device)\n",
    "        outputs = model(inputs)\n",
    "        predicted = torch.round(torch.sigmoid(outputs))\n",
    "        total += labels.size(0)\n",
    "        correct += (predicted == labels.unsqueeze(1)).sum().item()\n",
    "\n",
    "    test_init_acc = 100 * correct / total\n",
    "    print('test Accuracy: {:.2f}%'.format(test_acc))\n",
    "    print('test init Accuracy: {:.2f}%'.format(test_init_acc))\n",
    "    print('The change in Accuracy: {:.2f}%'.format(test_init_acc - test_acc))"
   ]
  },
  {
   "cell_type": "markdown",
   "metadata": {
    "id": "VdV997jfY1s5"
   },
   "source": [
    "### <img src=\"https://img.icons8.com/color/48/000000/code.png\" style=\"height:50px;display:inline\"> Task 3 - Design a CNN\n",
    "---\n",
    "In this task you are going to design a deep convolutional neural network to classify house number digits from the **The Street View House Numbers (SVHN)** Dataset. \n",
    "\n",
    "SVHN is a real-world image dataset for developing machine learning and object recognition algorithms with minimal requirement on data preprocessing and formatting. It can be seen as similar in flavor to MNIST (e.g., the images are of small cropped digits), but incorporates an order of magnitude more labeled data (over 600,000 digit images) and comes from a significantly harder, unsolved, real world problem (recognizing digits and numbers in natural scene images). SVHN is obtained from house numbers in Google Street View images.\n",
    "\n",
    "* 10 classes, 1 for each digit. Digit '0' has label 0, '1' has label 1,...\n",
    "* 73257 digits for training, 26032 digits for testing, and 531131 additional, somewhat less difficult samples, to use as extra training data.\n",
    "\n",
    "<img src=\"http://ufldl.stanford.edu/housenumbers/32x32eg.png\" style=\"height:250px\">\n",
    "\n",
    "1. Load the SVHN dataset with PyTorch using `torchvision.datasets.SVHN(root, split='train', transform=None, target_transform=None, download=True)`, you can read more here: https://pytorch.org/vision/stable/generated/torchvision.datasets.SVHN.html#torchvision.datasets.SVHN. Display 5 images from the train set.\n",
    "2. Design a Convolutional Neural Network (CNN) to classify digits from the images.\n",
    "    * Describe the chosen architecture, how many layers? What activations did you choose? What are the filter sizes? Did you use fully-connected layers (if you did, explain their sizes)?\n",
    "    * What is the input dimension? What is the output dimension?\n",
    "    * Calculate the number of parameters (weights) in the network. What is the model size in Megabytes? (see the convolution tutorial). **Print** these numbers.\n",
    "3. Train the classifier (preferably on a GPU - use Colab for this part if you don't have a GPU).\n",
    "    * Describe the the hyper-parameters of the model (batch size, epochs, learning rate....). How did you tune your model? Did you use a validation set to tune the model?\n",
    "    * What is the final accuracy on the test set? **Print** it.\n",
    "        * You need to reach at least 86% accuracy in this section, and 90% for a full grade.\n",
    "    * **Plot** the loss curves (and any other statistic you calculate) as a function of epochs/iterations.\n",
    "4. For the trained classifier, what is the accuracy on the test set when each test image is added a small noise $a=(0.05, 0.01, 0.005)$: $$ \\text{image} + a \\times \\mathcal{N}(0, 1) $$. **Print** the result for each value of $a$.\n",
    "5. Retrain the classifier, but this time use data augementation of your choosing. Briefly explain what augmentation you chose and how it works. Did the test accuracy improve? **Print** the result.\n",
    "    * You can use transformations available in `torchvision.transforms` as shown in the tutorial.\n",
    "    * You are welcome to use <a href=\"https://kornia.github.io/\">`kornia`</a> for the augmentations (**2 points bonus**, maximal grade is still 100).\n",
    "    * **Plot** the loss curves (and any other statistic you want) as a function of epochs/iterations."
   ]
  },
  {
   "cell_type": "code",
   "execution_count": 129,
   "metadata": {
    "colab": {
     "base_uri": "https://localhost:8080/"
    },
    "id": "exCXD8E7Y1s5",
    "outputId": "d3f69916-90b9-4fef-b2b0-eefbe65b55cf",
    "scrolled": true
   },
   "outputs": [
    {
     "name": "stdout",
     "output_type": "stream",
     "text": [
      "Downloading http://ufldl.stanford.edu/housenumbers/train_32x32.mat to ./train_32x32.mat\n"
     ]
    },
    {
     "name": "stderr",
     "output_type": "stream",
     "text": [
      "100%|██████████| 182040794/182040794 [00:16<00:00, 10839502.87it/s]\n"
     ]
    },
    {
     "name": "stdout",
     "output_type": "stream",
     "text": [
      "Downloading http://ufldl.stanford.edu/housenumbers/test_32x32.mat to ./test_32x32.mat\n"
     ]
    },
    {
     "name": "stderr",
     "output_type": "stream",
     "text": [
      "100%|██████████| 64275384/64275384 [00:06<00:00, 10038159.76it/s]\n"
     ]
    }
   ],
   "source": [
    "## 1 ##\n",
    "\n",
    "\n",
    "train_data = torchvision.datasets.SVHN(root = \"./\", split='train', transform=torchvision.transforms.ToTensor(), download=True)\n",
    "test_data = torchvision.datasets.SVHN(root = \"./\", split='test', transform=torchvision.transforms.ToTensor(), download=True)\n",
    "\n",
    "train_data, val_data = torch.utils.data.random_split(train_data, [60000, 13257])\n",
    "\n"
   ]
  },
  {
   "cell_type": "code",
   "execution_count": 130,
   "metadata": {
    "colab": {
     "base_uri": "https://localhost:8080/",
     "height": 216
    },
    "id": "qm46c0wPY1s6",
    "outputId": "be3f6e81-2a8b-4792-bc18-6100ebd22bf7"
   },
   "outputs": [
    {
     "data": {
      "image/png": "[encoded data removed]",
      "text/plain": [
       "<Figure size 1000x200 with 5 Axes>"
      ]
     },
     "metadata": {},
     "output_type": "display_data"
    }
   ],
   "source": [
    "images_to_show = 5\n",
    "\n",
    "fig, axes = plt.subplots(nrows=1, ncols=images_to_show, figsize=(10, 2))\n",
    "\n",
    "for i in range(images_to_show):\n",
    "    idx = torch.randint(len(train_data), size=(1,)).item()\n",
    "    img, label = train_data[idx]\n",
    "\n",
    "    # Transpose the dimensions of the image\n",
    "    img = img.permute(1, 2, 0)\n",
    "\n",
    "    axes[i].imshow(img)\n",
    "    axes[i].set_title(f\"Label: {label}\")\n",
    "    \n",
    "plt.show()"
   ]
  },
  {
   "cell_type": "markdown",
   "metadata": {
    "id": "DCexrmyTTvFy"
   },
   "source": [
    "**The chosen architecture:**\n",
    "\n",
    "\n",
    " * Total layers: 25\n",
    " * Activation function: ReLU\n",
    " * Filter sizes: 3 X 3\n",
    " * There are Fully-connected layers after the convolution block: The input is 4096 and output 1014 for the first fc, then 1024 to 512, then 512 to 10.\n",
    " * Input size: 3 X 32 X 32\n",
    " * Output size: 10\n",
    " "
   ]
  },
  {
   "cell_type": "code",
   "execution_count": 131,
   "metadata": {
    "id": "xXjbIKrWY1s7"
   },
   "outputs": [],
   "source": [
    "## 2 ##\n",
    "\n",
    "class SVHNCNN(nn.Module):\n",
    "    def __init__(self):\n",
    "        \"\"\"CNN Builder.\"\"\"\n",
    "        super(SVHNCNN, self).__init__()\n",
    "\n",
    "        self.conv_layer = nn.Sequential(\n",
    "\n",
    "            # Conv Layer block 1\n",
    "            nn.Conv2d(in_channels=3, out_channels=32, kernel_size=3, padding=1),\n",
    "            nn.BatchNorm2d(32),\n",
    "            nn.ReLU(inplace=True),\n",
    "            nn.Conv2d(in_channels=32, out_channels=64, kernel_size=3, padding=1),\n",
    "            nn.ReLU(inplace=True),\n",
    "            nn.MaxPool2d(kernel_size=2, stride=2),\n",
    "\n",
    "            # Conv Layer block 2h\n",
    "            nn.Conv2d(in_channels=64, out_channels=128, kernel_size=3, padding=1),\n",
    "            nn.BatchNorm2d(128),\n",
    "            nn.ReLU(inplace=True),\n",
    "            nn.Conv2d(in_channels=128, out_channels=128, kernel_size=3, padding=1),\n",
    "            nn.ReLU(inplace=True),\n",
    "            nn.MaxPool2d(kernel_size=2, stride=2),\n",
    "            nn.Dropout2d(p=0.05),\n",
    "\n",
    "            # Conv Layer block 3\n",
    "            nn.Conv2d(in_channels=128, out_channels=256, kernel_size=3, padding=1),\n",
    "            nn.BatchNorm2d(256),\n",
    "            nn.ReLU(inplace=True),\n",
    "            nn.Conv2d(in_channels=256, out_channels=256, kernel_size=3, padding=1),\n",
    "            nn.ReLU(inplace=True),\n",
    "            nn.MaxPool2d(kernel_size=2, stride=2),\n",
    "        )\n",
    "\n",
    "\n",
    "        self.fc_layer = nn.Sequential(\n",
    "            nn.Dropout(p=0.1),\n",
    "            nn.Linear(4096, 1024),\n",
    "            nn.ReLU(inplace=True),\n",
    "            nn.Linear(1024, 512),\n",
    "            nn.ReLU(inplace=True),\n",
    "            nn.Dropout(p=0.1),\n",
    "            nn.Linear(512, 10)\n",
    "        )\n",
    "\n",
    "\n",
    "    def forward(self, x):\n",
    "        \"\"\"Perform forward.\"\"\"\n",
    "        \n",
    "        # conv layers\n",
    "        x = self.conv_layer(x)\n",
    "        \n",
    "        # flatten\n",
    "        x = x.view(x.size(0), -1)\n",
    "        \n",
    "        # fc layer\n",
    "        x = self.fc_layer(x)\n",
    "\n",
    "        return x\n"
   ]
  },
  {
   "cell_type": "code",
   "execution_count": 132,
   "metadata": {
    "colab": {
     "base_uri": "https://localhost:8080/"
    },
    "id": "SgqOk2Z5Bhgj",
    "outputId": "e1885b13-803c-475b-9f58-6ba1d34e0e0f"
   },
   "outputs": [
    {
     "name": "stdout",
     "output_type": "stream",
     "text": [
      "torch.Size([1, 256, 4, 4])\n",
      "torch.Size([1, 4096])\n",
      "num trainable weights:  5852170\n",
      "model size: 187269440 / bit | 23.41 / MB\n"
     ]
    }
   ],
   "source": [
    "## Calcualte number of paramters and weight of the model ##\n",
    "\n",
    "dummy_input = torch.zeros([1, 3, 32, 32])\n",
    "dummy_model = SVHNCNN()\n",
    "dummy_output = dummy_model.conv_layer(dummy_input)\n",
    "print(dummy_output.shape)\n",
    "dummy_output = dummy_output.view(dummy_output.size(0), -1)\n",
    "print(dummy_output.shape)\n",
    "# how many weights (trainable parameters) we have in our model?\n",
    "num_trainable_params = sum([p.numel() for p in dummy_model.parameters() if p.requires_grad])\n",
    "print(\"num trainable weights: \", num_trainable_params)\n",
    "\n",
    "\n",
    "size_model = 0\n",
    "for param in dummy_model.parameters():\n",
    "  if param.data.is_floating_point():\n",
    "    size_model += param.numel() * torch.finfo(param.data.dtype).bits\n",
    "  else:\n",
    "    size_model += param.numel() * torch.iinfo(param.data.dtype).bits\n",
    "print(f\"model size: {size_model} / bit | {size_model / 8e6:.2f} / MB\")"
   ]
  },
  {
   "cell_type": "markdown",
   "metadata": {
    "id": "G6Q-AHjCWe_9"
   },
   "source": [
    "**The chosen hyper parameters:**\n",
    "\n",
    "For the training we splitted the train set into train and validation set, for tunning our model. We tried to change the parameters until we got the best results. The chosen parameters are:\n",
    "\n",
    "  * Batch size: 128\n",
    "  * Learning rate: 0.0001 \n",
    "  * Epochs: 5"
   ]
  },
  {
   "cell_type": "markdown",
   "metadata": {
    "id": "srjUKPu1Y1s8"
   },
   "source": [
    "<!-- Input: 3x32x32 image\n",
    "Layer 1: Convolutional layer with 32 filters of size 3x3, stride 1, padding 1\n",
    "         ReLU activation function\n",
    "         Batch normalization\n",
    "         Max pooling with size 2x2 and stride 2\n",
    "Output: 32x16x16 feature maps\n",
    "Layer 2: Convolutional layer with 64 filters of size 3x3, stride 1, padding 1\n",
    "         ReLU activation function\n",
    "         Batch normalization\n",
    "         Max pooling with size 2x2 and stride 2\n",
    "Output: 64x8x8 feature maps\n",
    "Layer 3: Convolutional layer with 128 filters of size 3x3, stride 1, padding 1\n",
    "         ReLU activation function\n",
    "         Batch normalization\n",
    "         Max pooling with size 2x2 and stride 2\n",
    "Output: 128x4x4 feature maps\n",
    "Layer 4: Fully connected layer with 256 units\n",
    "         ReLU activation function\n",
    "Output: 256-dimensional vector\n",
    "Layer 5: Fully connected layer with 10 units (one for each digit class)\n",
    "         Softmax activation function\n",
    "Output: 10-dimensional vector of class probabilities\n",
    "\n",
    "\n",
    "This architecture consists of 3 convolutional layers followed by 2 fully connected layers. The convolutional layers use filters of size 3x3 and ReLU activation function, and are followed by batch normalization and max pooling with size 2x2 and stride 2. The fully connected layers have 256 and 10 units respectively, and use ReLU and softmax activation functions.\n",
    "\n",
    "The input dimension is 3x32x32, corresponding to the RGB image size of 32x32 pixels. The output dimension is a 10-dimensional vector of class probabilities, representing the likelihood of the input image belonging to each of the 10 digit classes.\n",
    "\n",
    "To calculate the number of parameters in the network, we need to count the weights of each layer. For the convolutional layers, each filter has 3 channels (corresponding to the RGB input), so the number of parameters in a layer is (filter size * number of channels in previous layer + 1) * number of filters. For example, the first convolutional layer has 32 filters of size 3x3, so it has (3 * 3 * 3 + 1) * 32 = 896 parameters. For the fully connected layers, the number of parameters is (number of units in previous layer + 1) * number of units in current layer. For example, the first fully connected layer has 256 units, so it has (128 * 4 * 4 * 128 + 1) * 256 = 2,097,792 parameters.\n",
    "\n",
    "The total number of parameters in the network is the sum of the parameters of all layers: 896 + 18,496 + 73,856 + 2,097,792 + 2,570 = 2,191,610. -->"
   ]
  },
  {
   "cell_type": "code",
   "execution_count": 133,
   "metadata": {
    "id": "m5FL5TbSY1s8"
   },
   "outputs": [],
   "source": [
    "## 3 ##\n",
    "\n",
    "# hyper-parameters\n",
    "batch_size = 128\n",
    "learning_rate = 1e-4\n",
    "epochs = 5\n",
    "\n",
    "# dataloaders - creating batches and shuffling the data\n",
    "trainloader = torch.utils.data.DataLoader(\n",
    "    train_data, batch_size=batch_size, shuffle=True)\n",
    "testloader = torch.utils.data.DataLoader(\n",
    "    test_data, batch_size=batch_size, shuffle=False)\n",
    "valloader = torch.utils.data.DataLoader(\n",
    "    val_data, batch_size=batch_size, shuffle=True)\n",
    "\n",
    "# device - cpu or gpu?\n",
    "device = torch.device(\"cuda:0\" if torch.cuda.is_available() else \"cpu\")\n",
    "\n",
    "# loss criterion\n",
    "criterion = nn.CrossEntropyLoss()\n",
    "\n",
    "# build our model and send it to the device\n",
    "model = SVHNCNN().to(device) \n",
    "\n",
    "# optimizer - SGD, Adam, RMSProp...\n",
    "optimizer = torch.optim.Adam(model.parameters(), lr=learning_rate)\n"
   ]
  },
  {
   "cell_type": "code",
   "execution_count": 134,
   "metadata": {
    "id": "nM2zimMAPYcV"
   },
   "outputs": [],
   "source": [
    "# function to calcualte accuracy of the model\n",
    "def calculate_accuracy(model, dataloader, device):\n",
    "    model.eval() # put in evaluation mode\n",
    "    total_correct = 0\n",
    "    total_images = 0\n",
    "    confusion_matrix = np.zeros([10,10], int)\n",
    "    with torch.no_grad():\n",
    "        for data in dataloader:\n",
    "            images, labels = data\n",
    "            images = images.to(device)\n",
    "            labels = labels.to(device)\n",
    "            outputs = model(images)\n",
    "            _, predicted = torch.max(outputs.data, 1)\n",
    "            total_images += labels.size(0)\n",
    "            total_correct += (predicted == labels).sum().item()\n",
    "            for i, l in enumerate(labels):\n",
    "                confusion_matrix[l.item(), predicted[i].item()] += 1 \n",
    "\n",
    "    model_accuracy = total_correct / total_images * 100\n",
    "    return model_accuracy, confusion_matrix"
   ]
  },
  {
   "cell_type": "code",
   "execution_count": 135,
   "metadata": {
    "colab": {
     "base_uri": "https://localhost:8080/"
    },
    "id": "xTVeZGUbGD4_",
    "outputId": "e32a64d7-2187-48ac-968c-7d6f216dfccf"
   },
   "outputs": [
    {
     "name": "stdout",
     "output_type": "stream",
     "text": [
      "Epoch: 1 | Train Loss: 0.8690 | Val Loss: 0.3986 | Training accuracy: 88.702% | Validation accuracy: 87.855% | Test accuracy: 86.908% | Epoch Time: 53.53 secs\n",
      "Epoch: 2 | Train Loss: 0.3273 | Val Loss: 0.3000 | Training accuracy: 92.307% | Validation accuracy: 90.941% | Test accuracy: 90.485% | Epoch Time: 52.98 secs\n",
      "Epoch: 3 | Train Loss: 0.2500 | Val Loss: 0.2595 | Training accuracy: 94.573% | Validation accuracy: 92.427% | Test accuracy: 91.941% | Epoch Time: 51.21 secs\n",
      "Epoch: 4 | Train Loss: 0.2004 | Val Loss: 0.2352 | Training accuracy: 95.972% | Validation accuracy: 93.151% | Test accuracy: 92.878% | Epoch Time: 52.05 secs\n",
      "Epoch: 5 | Train Loss: 0.1637 | Val Loss: 0.2387 | Training accuracy: 96.438% | Validation accuracy: 93.196% | Test accuracy: 92.728% | Epoch Time: 51.71 secs\n",
      "==> Saving model ...\n",
      "==> Finished Training ...\n"
     ]
    }
   ],
   "source": [
    "# training loop\n",
    "train_losses = []\n",
    "val_losses = []\n",
    "for epoch in range(1, epochs + 1):\n",
    "    model.train()  # put in training mode\n",
    "    running_loss = 0.0\n",
    "    epoch_time = time.time()\n",
    "    for i, data in enumerate(trainloader, 0):\n",
    "        # get the inputs\n",
    "        inputs, labels = data\n",
    "        # send them to device\n",
    "        inputs = inputs.to(device)\n",
    "        labels = labels.to(device)\n",
    "\n",
    "        # forward + backward + optimize\n",
    "        outputs = model(inputs)  # forward pass\n",
    "        loss = criterion(outputs, labels)  # calculate the loss\n",
    "        # always the same 3 steps\n",
    "        optimizer.zero_grad()  # zero the parameter gradients\n",
    "        loss.backward()  # backpropagation\n",
    "        optimizer.step()  # update parameters\n",
    "\n",
    "        # print statistics\n",
    "        running_loss += loss.data.item()\n",
    "\n",
    "    # Normalizing the loss by the total number of train batches\n",
    "    running_loss /= len(trainloader)\n",
    "    train_losses.append(running_loss)\n",
    "\n",
    "    # Calculate validation loss\n",
    "    model.eval() # put in evaluation mode\n",
    "    val_loss = 0.0\n",
    "    with torch.no_grad():\n",
    "      for i, data in enumerate(valloader, 0):\n",
    "        inputs, labels = data\n",
    "        inputs = inputs.to(device)\n",
    "        labels = labels.to(device)\n",
    "        outputs = model(inputs)\n",
    "        val_loss += criterion(outputs, labels).data.item()\n",
    "    val_loss /= len(valloader)\n",
    "    val_losses.append(val_loss)\n",
    "\n",
    "    # Calculate training/test set accuracy of the existing model\n",
    "    train_accuracy, _ = calculate_accuracy(model, trainloader, device)\n",
    "    val_accuracy, _ = calculate_accuracy(model, valloader, device)\n",
    "    test_accuracy, _ = calculate_accuracy(model, testloader, device)\n",
    "\n",
    "    log = \"Epoch: {} | Train Loss: {:.4f} | Val Loss: {:.4f} | Training accuracy: {:.3f}% | Validation accuracy: {:.3f}% | Test accuracy: {:.3f}% | \".format(epoch, running_loss, val_loss, train_accuracy, val_accuracy, test_accuracy)\n",
    "    epoch_time = time.time() - epoch_time\n",
    "    log += \"Epoch Time: {:.2f} secs\".format(epoch_time)\n",
    "    print(log)\n",
    "    \n",
    "    # save model\n",
    "    if epoch % 5 == 0:\n",
    "        print('==> Saving model ...')\n",
    "        state = {\n",
    "            'net': model.state_dict(),\n",
    "            'epoch': epoch,\n",
    "        }\n",
    "        if not os.path.isdir('checkpoints'):\n",
    "            os.mkdir('checkpoints')\n",
    "        torch.save(state, './checkpoints/svhn_cnn_ckpt.pth')\n",
    "\n",
    "print('==> Finished Training ...')"
   ]
  },
  {
   "cell_type": "code",
   "execution_count": 136,
   "metadata": {
    "colab": {
     "base_uri": "https://localhost:8080/",
     "height": 503
    },
    "id": "tnxiVTeqY1s9",
    "outputId": "10945216-de8b-4653-adb2-afed9552da35"
   },
   "outputs": [
    {
     "name": "stdout",
     "output_type": "stream",
     "text": [
      "92.72818070067609\n"
     ]
    },
    {
     "data": {
      "image/png": "[encoded data removed]",
      "text/plain": [
       "<Figure size 640x480 with 1 Axes>"
      ]
     },
     "metadata": {},
     "output_type": "display_data"
    }
   ],
   "source": [
    "# plot the loss curves\n",
    "print(test_accuracy)\n",
    "x_epoch = list(range(1, epochs+1))\n",
    "plt.plot(x_epoch, train_losses, label='Training  loss')\n",
    "plt.plot(x_epoch, val_losses, label='Validation  loss')\n",
    "plt.xlabel('Epochs')\n",
    "plt.ylabel('Loss')\n",
    "plt.xticks(x_epoch)\n",
    "plt.grid(True)\n",
    "plt.legend()\n",
    "plt.tight_layout()\n",
    "plt.show()"
   ]
  },
  {
   "cell_type": "code",
   "execution_count": 137,
   "metadata": {
    "colab": {
     "base_uri": "https://localhost:8080/",
     "height": 564
    },
    "id": "KzQkklIfYHtQ",
    "outputId": "66a24a6a-ec6e-4d76-ea79-df0eac51023b"
   },
   "outputs": [
    {
     "name": "stdout",
     "output_type": "stream",
     "text": [
      "test accuracy: 92.728%\n"
     ]
    },
    {
     "data": {
      "image/png": "[encoded data removed]",
      "text/plain": [
       "<Figure size 800x600 with 1 Axes>"
      ]
     },
     "metadata": {},
     "output_type": "display_data"
    }
   ],
   "source": [
    "# load model, calculate accuracy and confusion matrix\n",
    "model = SVHNCNN().to(device)\n",
    "state = torch.load('./checkpoints/svhn_cnn_ckpt.pth', map_location=device)\n",
    "model.load_state_dict(state['net'])\n",
    "\n",
    "test_accuracy, confusion_matrix = calculate_accuracy(model, testloader, device)\n",
    "print(\"test accuracy: {:.3f}%\".format(test_accuracy))\n",
    "\n",
    "classes = ('0', '1', '2', '3', '4', \n",
    "           '5', '6', '7', '8', '9')\n",
    "\n",
    "# plot confusion matrix\n",
    "fig, ax = plt.subplots(1,1,figsize=(8,6))\n",
    "ax.matshow(confusion_matrix, aspect='auto', vmin=0, vmax=1000, cmap=plt.get_cmap('Blues'))\n",
    "plt.ylabel('Actual Category')\n",
    "plt.yticks(range(10), classes)\n",
    "plt.xlabel('Predicted Category')\n",
    "plt.xticks(range(10), classes)\n",
    "plt.show()"
   ]
  },
  {
   "cell_type": "code",
   "execution_count": 138,
   "metadata": {
    "colab": {
     "base_uri": "https://localhost:8080/"
    },
    "id": "-nFBG2SmAVDk",
    "outputId": "2df795db-1165-4e54-82be-a2d89488f845"
   },
   "outputs": [
    {
     "name": "stdout",
     "output_type": "stream",
     "text": [
      "The noisy test acuuracy with value 0.05 : is 87.684\n",
      "The noisy test acuuracy with value 0.01 : is 90.202\n",
      "The noisy test acuuracy with value 0.005 : is 91.052\n"
     ]
    }
   ],
   "source": [
    "## 4 ##\n",
    "\n",
    "a = [0.05, 0.01, 0.005]\n",
    "# Calculate test set accuracy\n",
    "test_acc = 0\n",
    "total_correct = 0\n",
    "total_images = 0\n",
    "model.eval()\n",
    "for value in a:\n",
    "  with torch.no_grad():\n",
    "    for i, data in enumerate(testloader):\n",
    "      inputs, labels = data\n",
    "      inputs = inputs.to(device)\n",
    "      labels = labels.to(device)   \n",
    "      noisy_batch = inputs + value * torch.randn(inputs.shape, device=device)\n",
    "      output = model(noisy_batch)\n",
    "      _, predicted = torch.max(output.data, 1)\n",
    "      total_images += labels.size(0)\n",
    "      total_correct += (predicted == labels).sum().item()\n",
    "\n",
    "  model_accuracy = total_correct / total_images * 100\n",
    "  print(\"The noisy test acuuracy with value {} : is {:.3f}\".format(value, model_accuracy))"
   ]
  },
  {
   "cell_type": "code",
   "execution_count": 139,
   "metadata": {
    "colab": {
     "base_uri": "https://localhost:8080/"
    },
    "id": "lU20AG0LFRRL",
    "outputId": "5c5d07f7-fe36-4635-fc70-2045759de1fe"
   },
   "outputs": [
    {
     "name": "stdout",
     "output_type": "stream",
     "text": [
      "Using downloaded and verified file: ./dataset/train_32x32.mat\n",
      "Using downloaded and verified file: ./dataset/test_32x32.mat\n"
     ]
    }
   ],
   "source": [
    "## 5 ##\n",
    "\n",
    "# hyper-parameters\n",
    "batch_size = 128\n",
    "learning_rate = 1e-4\n",
    "epochs = 5\n",
    "\n",
    "transform_train = transforms.Compose([\n",
    "    transforms.RandomAffine(degrees=25, scale=(0.8,0.8)),\n",
    "    torchvision.transforms.ColorJitter(brightness=0.6, contrast=0.2, saturation=0.5),\n",
    "    transforms.ToTensor(),\n",
    "])\n",
    "\n",
    "\n",
    "\n",
    "# Normalize the test set same as training set without augmentation\n",
    "transform_test = transforms.Compose([\n",
    "    transforms.ToTensor(),\n",
    "])\n",
    "\n",
    "\n",
    "# load dataset\n",
    "train_data_augemented = torchvision.datasets.SVHN(root='./dataset', split='train', \n",
    "                                               transform=transform_train, target_transform=None, download=True)\n",
    "test_data_augemented = torchvision.datasets.SVHN(root='./dataset', split='test', \n",
    "                                              transform=transform_test, target_transform=None, download=True)\n",
    "\n",
    "train_data_augemented, val_data_augemented = torch.utils.data.random_split(train_data_augemented, [60000, 13257])\n"
   ]
  },
  {
   "cell_type": "code",
   "execution_count": 140,
   "metadata": {
    "id": "gjA009oDHPaO"
   },
   "outputs": [],
   "source": [
    "\n",
    "\n",
    "# dataloaders - creating batches and shuffling the data\n",
    "trainloader_augemented = torch.utils.data.DataLoader(\n",
    "    train_data_augemented, batch_size=batch_size, shuffle=True)\n",
    "testloader_augemented = torch.utils.data.DataLoader(\n",
    "    test_data_augemented, batch_size=batch_size, shuffle=False)\n",
    "valloader_augemented = torch.utils.data.DataLoader(\n",
    "    val_data_augemented, batch_size=batch_size, shuffle=True)\n",
    "\n",
    "\n",
    "# device - cpu or gpu?\n",
    "device = torch.device(\"cuda:0\" if torch.cuda.is_available() else \"cpu\")\n",
    "\n",
    "# loss criterion\n",
    "criterion = nn.CrossEntropyLoss()\n",
    "\n",
    "# build our model and send it to the device\n",
    "model = SVHNCNN().to(device) \n",
    "\n",
    "# optimizer - SGD, Adam, RMSProp...\n",
    "optimizer = torch.optim.Adam(model.parameters(), lr=learning_rate)\n"
   ]
  },
  {
   "cell_type": "code",
   "execution_count": 141,
   "metadata": {
    "colab": {
     "base_uri": "https://localhost:8080/"
    },
    "id": "wzeqLJnXHiAt",
    "outputId": "9f1d8572-075c-48d7-d59e-f3e5c475a373"
   },
   "outputs": [
    {
     "name": "stdout",
     "output_type": "stream",
     "text": [
      "Epoch: 1 | Train Loss augemented: 1.3412 | Val Loss augemented: 0.5909 Epoch Time: 60.82 secs\n",
      "Epoch: 2 | Train Loss augemented: 0.5305 | Val Loss augemented: 0.4288 Epoch Time: 60.56 secs\n",
      "Epoch: 3 | Train Loss augemented: 0.4115 | Val Loss augemented: 0.3645 Epoch Time: 60.21 secs\n",
      "Epoch: 4 | Train Loss augemented: 0.3574 | Val Loss augemented: 0.3315 Epoch Time: 60.27 secs\n",
      "Epoch: 5 | Train Loss augemented: 0.3228 | Val Loss augemented: 0.3086 Epoch Time: 60.31 secs\n",
      "==> Saving model ...\n",
      "==> Finished Training ...\n"
     ]
    }
   ],
   "source": [
    "# training loop\n",
    "train_losses = []\n",
    "val_losses = []\n",
    "for epoch in range(1, epochs + 1):\n",
    "    model.train()  # put in training mode\n",
    "    running_loss = 0.0\n",
    "    epoch_time = time.time()\n",
    "    for i, data in enumerate(trainloader_augemented, 0):\n",
    "        # get the inputs\n",
    "        inputs, labels = data\n",
    "\n",
    "        # send them to device\n",
    "        inputs = inputs.to(device)\n",
    "        labels = labels.to(device)\n",
    "\n",
    "        # forward + backward + optimize\n",
    "        outputs = model(inputs)  # forward pass\n",
    "        loss = criterion(outputs, labels)  # calculate the loss\n",
    "        # always the same 3 steps\n",
    "        optimizer.zero_grad()  # zero the parameter gradients\n",
    "        loss.backward()  # backpropagation\n",
    "        optimizer.step()  # update parameters\n",
    "\n",
    "        # print statistics\n",
    "        running_loss += loss.data.item()\n",
    "\n",
    "    # Normalizing the loss by the total number of train batches\n",
    "    running_loss /= len(trainloader_augemented)\n",
    "    train_losses.append(running_loss)\n",
    "\n",
    "    # Calculate validation loss\n",
    "    model.eval() # put in evaluation mode\n",
    "    val_loss = 0.0\n",
    "    with torch.no_grad():\n",
    "      for i, data in enumerate(valloader_augemented, 0):\n",
    "        inputs, labels = data\n",
    "        inputs = inputs.to(device)\n",
    "        labels = labels.to(device)\n",
    "        outputs = model(inputs)\n",
    "        val_loss += criterion(outputs, labels).data.item()\n",
    "    val_loss /= len(valloader_augemented)\n",
    "    val_losses.append(val_loss)\n",
    "\n",
    "    log = \"Epoch: {} | Train Loss augemented: {:.4f} | Val Loss augemented: {:.4f} \".format(epoch, running_loss, val_loss)\n",
    "    epoch_time = time.time() - epoch_time\n",
    "    log += \"Epoch Time: {:.2f} secs\".format(epoch_time)\n",
    "    print(log)\n",
    "    \n",
    "    # save model\n",
    "    if epoch % 5 == 0:\n",
    "        print('==> Saving model ...')\n",
    "        state = {\n",
    "            'net': model.state_dict(),\n",
    "            'epoch': epoch,\n",
    "        }\n",
    "        if not os.path.isdir('checkpoints'):\n",
    "            os.mkdir('checkpoints')\n",
    "        torch.save(state, './checkpoints/svhn_cnn_ckpt.pth')\n",
    "\n",
    "print('==> Finished Training ...')"
   ]
  },
  {
   "cell_type": "code",
   "execution_count": 142,
   "metadata": {
    "colab": {
     "base_uri": "https://localhost:8080/"
    },
    "id": "d6SOqL1G4GM9",
    "outputId": "78d5acb1-d01d-4208-ce81-4f7b5b3a32cf"
   },
   "outputs": [
    {
     "name": "stdout",
     "output_type": "stream",
     "text": [
      "Test accuracy: 90.1621\n"
     ]
    }
   ],
   "source": [
    "    # Calculate training/test set accuracy of the existing model\n",
    "\n",
    "    test_accuracy, _ = calculate_accuracy(model, testloader_augemented, device)\n",
    "\n",
    "    print(\"Test accuracy: {:.4f}\".format(test_accuracy))"
   ]
  },
  {
   "cell_type": "code",
   "execution_count": 143,
   "metadata": {
    "colab": {
     "base_uri": "https://localhost:8080/",
     "height": 504
    },
    "id": "h9gecqX6IOqm",
    "outputId": "ea2bbe32-f180-4505-e59d-fccff8d1090e"
   },
   "outputs": [
    {
     "name": "stdout",
     "output_type": "stream",
     "text": [
      "90.16210817455439\n"
     ]
    },
    {
     "data": {
      "image/png": "[encoded data removed]",
      "text/plain": [
       "<Figure size 640x480 with 1 Axes>"
      ]
     },
     "metadata": {},
     "output_type": "display_data"
    }
   ],
   "source": [
    "# plot the loss curves\n",
    "print(test_accuracy)\n",
    "x_epoch = list(range(1, epochs+1))\n",
    "plt.plot(x_epoch, train_losses, label='Training  loss')\n",
    "plt.plot(x_epoch, val_losses, label='Validation  loss')\n",
    "plt.xlabel('Epochs')\n",
    "plt.ylabel('Loss')\n",
    "plt.xticks(x_epoch)\n",
    "plt.grid(True)\n",
    "plt.legend()\n",
    "plt.tight_layout()\n",
    "plt.show()"
   ]
  },
  {
   "cell_type": "markdown",
   "metadata": {
    "id": "R0H2SJIpaMHD"
   },
   "source": [
    "We have tried diffierent kind of augementations, but none of them really improved the accuracy. Eventually, we used RandomAFine which performs affine transformation and ColorJitter that adjust the brightness, contrast and saturation of the image. We also tried to use kornia but this lowered the accuracy to 85%, so we decided to remove it."
   ]
  },
  {
   "cell_type": "markdown",
   "metadata": {
    "id": "FfhsI9vsY1s-"
   },
   "source": [
    "## <img src=\"https://img.icons8.com/dusk/64/000000/prize.png\" style=\"height:50px;display:inline\"> Credits\n",
    "---\n",
    "* Icons made by <a href=\"https://www.flaticon.com/authors/becris\" title=\"Becris\">Becris</a> from <a href=\"https://www.flaticon.com/\" title=\"Flaticon\">www.flaticon.com</a>\n",
    "* Icons from <a href=\"https://icons8.com/\">Icons8.com</a> - https://icons8.com\n",
    "* Datasets from <a href=\"https://www.kaggle.com/\">Kaggle</a> - https://www.kaggle.com/"
   ]
  }
 ],
 "metadata": {
  "accelerator": "GPU",
  "colab": {
   "gpuType": "T4",
   "provenance": []
  },
  "gpuClass": "standard",
  "kernelspec": {
   "display_name": "Python 3 (ipykernel)",
   "language": "python",
   "name": "python3"
  },
  "language_info": {
   "codemirror_mode": {
    "name": "ipython",
    "version": 3
   },
   "file_extension": ".py",
   "mimetype": "text/x-python",
   "name": "python",
   "nbconvert_exporter": "python",
   "pygments_lexer": "ipython3",
   "version": "3.10.10"
  }
 },
 "nbformat": 4,
 "nbformat_minor": 1
}
